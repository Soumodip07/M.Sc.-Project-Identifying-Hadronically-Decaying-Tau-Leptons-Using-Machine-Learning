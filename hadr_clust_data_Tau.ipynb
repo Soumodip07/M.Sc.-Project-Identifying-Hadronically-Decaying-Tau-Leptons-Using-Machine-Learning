{
 "cells": [
  {
   "cell_type": "code",
   "execution_count": 1,
   "id": "45ea3e24-4b05-4863-a050-c4eb853b7e78",
   "metadata": {},
   "outputs": [
    {
     "name": "stdout",
     "output_type": "stream",
     "text": [
      "Library path added: /home/soumodip/Documents/pythia8312/lib\n",
      "\n",
      "LHE file: e+e-tau_75k_100GeV.lhe\n",
      "Number of events: 75000\n",
      "Center-of-Mass Energy (E_cm): 100.0 GeV\n",
      "Time to count events: 3.69 seconds\n",
      "\n"
     ]
    }
   ],
   "source": [
    "import sys\n",
    "from pathlib import Path\n",
    "from datetime import datetime\n",
    "import time\n",
    "from itertools import islice\n",
    "\n",
    "makefile_path = Path(\"/home/soumodip/Documents/pythia8312/examples/Makefile.inc\")\n",
    "default_lib = \"../lib\"\n",
    "\n",
    "lhe_file_path = Path(\"/home/soumodip/Python/MSc_Project/Finalized_Project/Training_data_75k_100GeV/LHE_Files/e+e-tau_75k_100GeV.lhe\")\n",
    "data_path = Path(\"/home/soumodip/Python/MSc_Project/Finalized_Project/Training_data_75k_100GeV/Tau_Pipeline/Tau_Datas\")\n",
    "log_path = data_path / \"tau_pipeline.log\"\n",
    "\n",
    "def log(message):\n",
    "    timestamp = datetime.now().strftime(\"[%Y-%m-%d %H:%M:%S]\")\n",
    "    with open(log_path, \"a\") as f:\n",
    "        f.write(f\"{timestamp} {message}\\n\")\n",
    "\n",
    "if makefile_path.is_file():\n",
    "    with makefile_path.open() as cfg:\n",
    "        lib = default_lib\n",
    "        for line in cfg:\n",
    "            if line.startswith(\"PREFIX_LIB=\"):\n",
    "                lib = line.split(\"=\", 1)[1].strip()\n",
    "                break\n",
    "        sys.path.insert(0, lib)\n",
    "        print(f\"Library path added: {lib}\\n\")\n",
    "        log(f\"Library path added: {lib}\")\n",
    "else:\n",
    "    err_msg = f\"Error: File '{makefile_path}' does not exist.\"\n",
    "    print(err_msg)\n",
    "    log(err_msg)\n",
    "    sys.exit(1)\n",
    "\n",
    "import pylhe\n",
    "import pythia8\n",
    "\n",
    "start_time = time.time()\n",
    "\n",
    "def no_of_events(file_path):\n",
    "    return sum(1 for _ in islice(pylhe.read_lhe_with_attributes(file_path), None))\n",
    "\n",
    "total_num_events = no_of_events(lhe_file_path)\n",
    "end_time = time.time()\n",
    "\n",
    "e_cm = None\n",
    "with open(lhe_file_path) as f:\n",
    "    for line in f:\n",
    "        if line.strip().startswith(\"<init>\"):\n",
    "            init_line = next(f)\n",
    "            init_parts = list(map(float, init_line.split()))\n",
    "            e_cm = init_parts[2] + init_parts[3]  \n",
    "            break\n",
    "\n",
    "print(f\"LHE file: {lhe_file_path.name}\")\n",
    "print(f\"Number of events: {total_num_events}\")\n",
    "print(f\"Center-of-Mass Energy (E_cm): {e_cm:.1f} GeV\")\n",
    "print(f\"Time to count events: {end_time - start_time:.2f} seconds\\n\")\n",
    "\n",
    "log(f\"LHE file: {lhe_file_path.name}\")\n",
    "log(f\"Number of events: {total_num_events}\")\n",
    "log(f\"Center-of-Mass Energy (E_cm): {e_cm:.1f} GeV\")\n",
    "log(f\"Time to count events: {end_time - start_time:.2f} seconds\")\n",
    "\n",
    "import numpy as np\n",
    "import matplotlib.pyplot as plt\n",
    "import fastjet as fj\n",
    "from scipy.spatial import KDTree\n",
    "from tqdm import tqdm\n",
    "import h5py\n",
    "import json\n",
    "from collections import defaultdict"
   ]
  },
  {
   "cell_type": "code",
   "execution_count": 2,
   "id": "88b55791-f041-4c49-99bd-c33b1363e26b",
   "metadata": {},
   "outputs": [],
   "source": [
    "def truth_lvl_partons(pythia, verbose=False):\n",
    "\n",
    "    pdg_ids = {15, -15}\n",
    "    truth_partons = []\n",
    "\n",
    "    for i in range(pythia.event.size()):\n",
    "        particle = pythia.event[i]\n",
    "\n",
    "        if particle.status() == -23 and particle.id() in pdg_ids:\n",
    "            parton_info = {\n",
    "                \"id\": particle.id(),\n",
    "                \"pt\": particle.pT(),\n",
    "                \"eta\": particle.eta(),\n",
    "                \"phi\": particle.phi(),\n",
    "                \"e\": particle.e()\n",
    "            }\n",
    "            truth_partons.append(parton_info)\n",
    "\n",
    "    if not truth_partons and verbose:\n",
    "        print(\"Warning: No truth-level taus found in this event!\")\n",
    "\n",
    "    return truth_partons"
   ]
  },
  {
   "cell_type": "code",
   "execution_count": 3,
   "id": "f9423358-dd4d-4543-a542-745f972e821a",
   "metadata": {},
   "outputs": [],
   "source": [
    "def cluster_jets(event, r, min_jet_pT, eta_max, verbose=False):\n",
    "    if \"final_particles\" not in event or not event[\"final_particles\"]:\n",
    "        raise ValueError(\"Event does not contain valid final state particles.\")\n",
    "\n",
    "    pdg_charge_map = {\n",
    "        211: +1, -211: -1,\n",
    "        321: +1, -321: -1,\n",
    "        2212: +1, -2212: -1,\n",
    "        11: -1, -11: +1, 13: -1, -13: +1\n",
    "    }\n",
    "\n",
    "    pseudojets = []\n",
    "    for px, py, pz, e, pid in event[\"final_particles\"]:\n",
    "        pj = fj.PseudoJet(px, py, pz, e)\n",
    "        pj.set_user_index(pid)\n",
    "        pseudojets.append(pj)\n",
    "\n",
    "    if not pseudojets:\n",
    "        if verbose:\n",
    "            print(\"No valid pseudojets created.\")\n",
    "        return [], None\n",
    "\n",
    "    jet_def = fj.JetDefinition(fj.antikt_algorithm, r, fj.pt_scheme)\n",
    "    cluster_sequence = fj.ClusterSequence(pseudojets, jet_def)\n",
    "    jets = cluster_sequence.inclusive_jets(ptmin=min_jet_pT)\n",
    "    jets_with_cuts = [jet for jet in jets if abs(jet.eta()) < eta_max]\n",
    "\n",
    "    if verbose:\n",
    "        print(f\"Total jets before eta cut: {len(jets)}\")\n",
    "        print(f\"Jets passing eta cut: {len(jets_with_cuts)}\")\n",
    "\n",
    "    jets_with_constituents = []\n",
    "    for jet in jets_with_cuts:\n",
    "        constituents = jet.constituents()\n",
    "        if len(constituents) < 3:\n",
    "            if verbose:\n",
    "                print(f\"Skipping jet with {len(constituents)} constituents (less than 3).\")\n",
    "            continue\n",
    "\n",
    "        constituent_list = []\n",
    "        for p in constituents:\n",
    "            pid = p.user_index()\n",
    "            charge = pdg_charge_map.get(pid, 0)\n",
    "\n",
    "            constituent_list.append({\n",
    "                \"e\": p.e(), \"pt\": p.pt(), \"eta\": p.eta(),\n",
    "                \"phi\": p.phi(), \"pdg_id\": pid, \"charge\": charge\n",
    "            })\n",
    "\n",
    "        jets_with_constituents.append({\n",
    "            \"eta\": jet.eta(),\n",
    "            \"phi\": jet.phi(),\n",
    "            \"pt\": jet.pt(),\n",
    "            \"mass\": jet.m(),\n",
    "            \"multiplicity\": len(constituents),\n",
    "            \"charge_multiplicity\": sum(1 for c in constituent_list if c[\"charge\"] != 0),\n",
    "            \"constituents\": constituent_list\n",
    "        })\n",
    "\n",
    "    if not jets_with_constituents and verbose:\n",
    "        print(\"No jets passed the constituent multiplicity cut.\")\n",
    "\n",
    "    return jets_with_constituents, cluster_sequence"
   ]
  },
  {
   "cell_type": "code",
   "execution_count": 4,
   "id": "11675ac3-b1a5-4b3d-a57c-289735d2b7c9",
   "metadata": {},
   "outputs": [],
   "source": [
    "def match_and_tag_jets_with_kdtree(jets, target_partons, r_threshold=0.32, verbose=False):\n",
    "    if not jets or not target_partons:\n",
    "        if verbose:\n",
    "            msg = \"No jets provided.\" if not jets else \"No target partons provided.\"\n",
    "            print(f\"{msg}\")\n",
    "        return [{\n",
    "            \"tag\": \"unmatched\",\n",
    "            \"pt\": jet[\"pt\"],\n",
    "            \"eta\": jet[\"eta\"],\n",
    "            \"phi\": jet[\"phi\"],\n",
    "            \"mass\": jet[\"mass\"],\n",
    "            \"multiplicity\": jet[\"multiplicity\"],\n",
    "            \"constituents\": jet[\"constituents\"],\n",
    "            \"charge_multiplicity\": jet[\"charge_multiplicity\"]\n",
    "        } for jet in jets]\n",
    "\n",
    "    jets_sorted = sorted(jets, key=lambda x: x[\"pt\"], reverse=True)\n",
    "    parton_coords = np.array([[p[\"eta\"], p[\"phi\"]] for p in target_partons])\n",
    "\n",
    "    wrapped_coords = np.vstack([\n",
    "        parton_coords,\n",
    "        np.array([parton_coords[:, 0], parton_coords[:, 1] + 2 * np.pi]).T,\n",
    "        np.array([parton_coords[:, 0], parton_coords[:, 1] - 2 * np.pi]).T,\n",
    "    ])\n",
    "    kdtree = KDTree(wrapped_coords)\n",
    "\n",
    "    used_partons = set()\n",
    "    matched_jets = []\n",
    "\n",
    "    def create_jet_entry(jet, tag, distance=None):\n",
    "        return {\n",
    "            \"tag\": tag,\n",
    "            \"pt\": jet[\"pt\"],\n",
    "            \"eta\": jet[\"eta\"],\n",
    "            \"phi\": jet[\"phi\"],\n",
    "            \"mass\": jet[\"mass\"],\n",
    "            \"multiplicity\": jet[\"multiplicity\"],\n",
    "            \"constituents\": jet[\"constituents\"],\n",
    "            \"charge_multiplicity\": jet[\"charge_multiplicity\"],\n",
    "            \"match_distance\": distance  \n",
    "        }\n",
    "\n",
    "    for jet_idx, jet in enumerate(jets_sorted[:2]):\n",
    "        jet_coords = np.array([jet[\"eta\"], jet[\"phi\"]])\n",
    "        distance, idx = kdtree.query(jet_coords)\n",
    "        actual_idx = idx % len(parton_coords)\n",
    "        matched_parton = target_partons[actual_idx]\n",
    "\n",
    "        if distance < r_threshold and actual_idx not in used_partons:\n",
    "            pid = matched_parton[\"id\"]\n",
    "            if pid == 15:\n",
    "                tag = \"tau\"\n",
    "            elif pid == -15:\n",
    "                tag = \"antitau\"\n",
    "            else:\n",
    "                tag = \"unmatched\"\n",
    "            used_partons.add(actual_idx)\n",
    "        else:\n",
    "            tag = \"unmatched\"\n",
    "\n",
    "        matched_jets.append(create_jet_entry(jet, tag, distance))\n",
    "\n",
    "    for jet in jets_sorted[2:]:\n",
    "        matched_jets.append(create_jet_entry(jet, \"unmatched\"))\n",
    "\n",
    "    if verbose:\n",
    "        total_matched = len([j for j in matched_jets if j[\"tag\"] != \"unmatched\"])\n",
    "        total_unmatched = len(jets_sorted) - total_matched\n",
    "        print(f\"Jet Matching Summary:\")\n",
    "        print(f\"Total jets:     {len(jets_sorted)}\")\n",
    "        print(f\"Total partons:  {len(target_partons)}\")\n",
    "        print(f\"Matched jets:   {total_matched} ({100 * total_matched / len(jets_sorted):.1f}%)\")\n",
    "        print(f\"Unmatched jets: {total_unmatched}\")\n",
    "\n",
    "    return matched_jets"
   ]
  },
  {
   "cell_type": "code",
   "execution_count": 5,
   "id": "800839ca-955f-4305-9638-589844850679",
   "metadata": {},
   "outputs": [
    {
     "name": "stdout",
     "output_type": "stream",
     "text": [
      "\n",
      " *------------------------------------------------------------------------------------* \n",
      " |                                                                                    | \n",
      " |  *------------------------------------------------------------------------------*  | \n",
      " |  |                                                                              |  | \n",
      " |  |                                                                              |  | \n",
      " |  |   PPP   Y   Y  TTTTT  H   H  III    A      Welcome to the Lund Monte Carlo!  |  | \n",
      " |  |   P  P   Y Y     T    H   H   I    A A     This is PYTHIA version 8.312      |  | \n",
      " |  |   PPP     Y      T    HHHHH   I   AAAAA    Last date of change: 23 May 2024  |  | \n",
      " |  |   P       Y      T    H   H   I   A   A                                      |  | \n",
      " |  |   P       Y      T    H   H  III  A   A    Now is 22 Apr 2025 at 12:21:22    |  | \n",
      " |  |                                                                              |  | \n",
      " |  |   Program documentation and an archive of historic versions is found on:     |  | \n",
      " |  |                                                                              |  | \n",
      " |  |                               https://pythia.org/                            |  | \n",
      " |  |                                                                              |  | \n",
      " |  |   PYTHIA is authored by a collaboration consisting of:                       |  | \n",
      " |  |                                                                              |  | \n",
      " |  |   Javira Altmann, Christian Bierlich, Naomi Cooke, Nishita Desai,            |  | \n",
      " |  |   Leif Gellersen, Ilkka Helenius, Philip Ilten, Leif Lonnblad,               |  | \n",
      " |  |   Stephen Mrenna, Christian Preuss, Torbjorn Sjostrand, Peter Skands,        |  | \n",
      " |  |   Marius Utheim, and Rob Verheyen.                                           |  | \n",
      " |  |                                                                              |  | \n",
      " |  |   The complete list of authors, including contact information and            |  | \n",
      " |  |   affiliations, can be found on https://pythia.org/.                         |  | \n",
      " |  |   Problems or bugs should be reported on email at authors@pythia.org.        |  | \n",
      " |  |                                                                              |  | \n",
      " |  |   The main program reference is C. Bierlich et al,                           |  | \n",
      " |  |   'A comprehensive guide to the physics and usage of Pythia 8.3',            |  | \n",
      " |  |   SciPost Phys. Codebases 8-r8.3 (2022) [arXiv:2203.11601 [hep-ph]]          |  | \n",
      " |  |                                                                              |  | \n",
      " |  |   PYTHIA is released under the GNU General Public Licence version 2 or later.|  | \n",
      " |  |   Please respect the MCnet Guidelines for Event Generator Authors and Users. |  | \n",
      " |  |                                                                              |  | \n",
      " |  |   Disclaimer: this program comes without any guarantees.                     |  | \n",
      " |  |   Beware of errors and use common sense when interpreting results.           |  | \n",
      " |  |                                                                              |  | \n",
      " |  |   Copyright (C) 2024 Torbjorn Sjostrand                                      |  | \n",
      " |  |                                                                              |  | \n",
      " |  |                                                                              |  | \n",
      " |  *------------------------------------------------------------------------------*  | \n",
      " |                                                                                    | \n",
      " *------------------------------------------------------------------------------------* \n",
      "\n",
      " *-----------------------  SusyLesHouches SUSY/BSM Interface  ------------------------*\n",
      " | Last Change 12 Apr 2017 - P. Skands\n",
      " | Parsing: /home/soumodip/Python/MSc_Project/Finalized_Project/Training_data_75k_100GeV/LHE_Files/e+e-tau_75k_100GeV.lhe\n",
      " | (SLHA::readFile) line 360 - storing non-SLHA(2) block: yukawa\n",
      " *------------------------------------------------------------------------------------*\n",
      " PYTHIA Info from SLHAinterface::initSLHA: No MODSEL found, keeping internal SUSY switched off\n",
      " PYTHIA Warning in SLHAinterface::initSLHA: ignoring MASS entries for id = {1,2,3,4,5,11,12,13,14,15,16,21,22,23,24} (m0 < SLHA:minMassSM)\n",
      " PYTHIA Warning in SLHAinterface::initSLHA: ignoring DECAY tables for id = {23,24,1,2,3,4,5,11,12,13,14,15,16,21,22} (m0 < SLHA:minMassSM)\n",
      " PYTHIA Warning in SLHAinterface::initSLHA: ignoring empty DECAY tables for id = {6,25} (total width provided but no Branching Ratios)\n",
      "\n",
      " *-------  PYTHIA Process Initialization  --------------------------*\n",
      " |                                                                  |\n",
      " | We collide e+ with e- at a CM energy of 1.000e+02 GeV            |\n",
      " |                                                                  |\n",
      " |------------------------------------------------------------------|\n",
      " |                                                    |             |\n",
      " | Subprocess                                    Code |   Estimated |\n",
      " |                                                    |    max (mb) |\n",
      " |                                                    |             |\n",
      " |------------------------------------------------------------------|\n",
      " |                                                    |             |\n",
      " | Les Houches User Process(es)                  9999 |   1.000e-09 |\n",
      " |                                                                  |\n",
      " *-------  End PYTHIA Process Initialization -----------------------*\n",
      "\n",
      " *-------  PYTHIA Flag + Mode + Parm + Word + FVec + MVec + PVec + WVec Settings (changes only)  ------------------* \n",
      " |                                                                                                                 | \n",
      " | Name                                          |                      Now |      Default         Min         Max | \n",
      " |                                               |                          |                                      | \n",
      " | Beams:frameType                               |                        4 |            1           1           5 | \n",
      " | Beams:LHEF                                    | /home/soumodip/Python/MSc_Project/Finalized_Project/Training_data_75k_100GeV/LHE_Files/e+e-tau_75k_100GeV.lhe |         void | \n",
      " |                                                                                                                 | \n",
      " *-------  End PYTHIA Flag + Mode + Parm + Word + FVec + MVec + PVec + WVec Settings  -----------------------------* \n",
      "\n",
      " --------  PYTHIA Particle Data Table (changed only)  ------------------------------------------------------------------------------\n",
      " \n",
      "      id   name            antiName         spn chg col      m0        mWidth      mMin       mMax       tau0    res dec ext vis wid\n",
      "             no onMode   bRatio   meMode     products \n",
      "\n",
      "       6  t                tbar               2   2   1  173.00000    1.35678  165.54250  180.45750  1.45438e-13   1   1   0   1   0\n",
      "              0     1   0.0000664    0       24        1 \n",
      "              1     1   0.0017361    0       24        3 \n",
      "              2     1   0.9981975    0       24        5 \n",
      "              3     0   0.0000000    0       37        5 \n",
      "\n",
      "      15  tau-             tau+               2  -3   0    1.77682    0.00000    1.77682    1.77682  8.71100e-02   0   1   0   1   0\n",
      "              0     1   0.1076825 1521       16     -211 \n",
      "              1     1   0.0069601 1521       16     -321 \n",
      "              2     1   0.1772832 1531       16       11      -12 \n",
      "              3     1   0.1731072 1531       16       13      -14 \n",
      "              4     1   0.2537447 1532       16      111     -211 \n",
      "              5     1   0.0015809 1532       16      311     -321 \n",
      "              6     1   0.0001511 1532       16      221     -321 \n",
      "              7     1   0.0083521 1533       16     -211     -311 \n",
      "              8     1   0.0042655 1533       16      111     -321 \n",
      "              9     1   0.0924697 1541       16      111      111     -211 \n",
      "             10     1   0.0925691 1541       16     -211     -211      211 \n",
      "             11     1   0.0039772 1542       16      111     -211     -311 \n",
      "             12     1   0.0034701 1542       16     -211      211     -321 \n",
      "             13     1   0.0014318 1542       16     -211     -321      321 \n",
      "             14     1   0.0015809 1542       16      111      311     -321 \n",
      "             15     1   0.0011932 1542       16      130     -211      310 \n",
      "             16     1   0.0006463 1542       16      111      111     -321 \n",
      "             17     1   0.0002386 1542       16      130      130     -211 \n",
      "             18     1   0.0002386 1542       16     -211      310      310 \n",
      "             19     1   0.0013821 1543       16      111     -211      221 \n",
      "             20     1   0.0017520 1544       16       22      111     -211 \n",
      "             21     1   0.0459365 1551       16      111     -211     -211      211 \n",
      "             22     1   0.0104401 1551       16      111      111      111     -211 \n",
      "             23     1   0.0049069 1561       16      111      111     -211     -211      211 \n",
      "             24     1   0.0009515 1561       16      111      111      111      111     -211 \n",
      "             25     1   0.0008342 1561       16     -211     -211     -211      211      211 \n",
      "             26     1   0.0001631    0       16     -211     -211      211      221 \n",
      "             27     1   0.0001491    0       16      111      111     -211      221 \n",
      "             28     1   0.0001392    0       16      111      111     -211      223 \n",
      "             29     1   0.0001193    0       16     -211     -211      211      223 \n",
      "             30     1   0.0004077    0       16      223     -321 \n",
      "             31     1   0.0004773    0       16      111      111      111     -321 \n",
      "             32     1   0.0003052    0       16      111     -211      211     -321 \n",
      "             33     1   0.0002784    0       16      221     -323 \n",
      "             34     1   0.0002366    0       16      111      111     -211     -311 \n",
      "             35     1   0.0002237    0       16     -211     -211      211     -311 \n",
      "             36     1   0.0002953    0       16      111     -211     -311      311 \n",
      "             37     1   0.0000590    0       16      111     -211     -321      321 \n",
      "\n",
      "      25  h0                                  1   0   0  125.00000    0.00408  124.96809  125.03191  4.83238e-11   1   1   0   0   0\n",
      "              0     1   0.0000009    0        1       -1 \n",
      "              1     1   0.0000002    0        2       -2 \n",
      "              2     1   0.0002163    0        3       -3 \n",
      "              3     1   0.0288493    0        4       -4 \n",
      "              4     1   0.5768873    0        5       -5 \n",
      "              5     1   0.0000000    0        6       -6 \n",
      "              6     1   0.0000000    0       11      -11 \n",
      "              7     1   0.0002185    0       13      -13 \n",
      "              8     1   0.0628569    0       15      -15 \n",
      "              9     1   0.0850383    0       21       21 \n",
      "             10     1   0.0022965    0       22       22 \n",
      "             11     1   0.0016155    0       22       23 \n",
      "             12     1   0.0261758    0       23       23 \n",
      "             13     1   0.2158445    0       24      -24 \n",
      "             14     1   0.0000000  103  1000022  1000022 \n",
      "             15     1   0.0000000  103  1000023  1000022 \n",
      "             16     1   0.0000000  103  1000023  1000023 \n",
      "             17     1   0.0000000  103  1000025  1000022 \n",
      "             18     1   0.0000000  103  1000025  1000023 \n",
      "             19     1   0.0000000  103  1000025  1000025 \n",
      "             20     1   0.0000000  103  1000035  1000022 \n",
      "             21     1   0.0000000  103  1000035  1000023 \n",
      "             22     1   0.0000000  103  1000035  1000025 \n",
      "             23     1   0.0000000  103  1000035  1000035 \n",
      "             24     1   0.0000000  103  1000024 -1000024 \n",
      "             25     1   0.0000000  103  1000024 -1000037 \n",
      "             26     1   0.0000000  103  1000037 -1000024 \n",
      "             27     1   0.0000000  103  1000037 -1000037 \n",
      "             28     1   0.0000000  103  1000001 -1000001 \n",
      "             29     1   0.0000000  103  2000001 -2000001 \n",
      "             30     1   0.0000000  103  1000001 -2000001 \n",
      "             31     1   0.0000000  103 -1000001  2000001 \n",
      "             32     1   0.0000000  103  1000002 -1000002 \n",
      "             33     1   0.0000000  103  2000002 -2000002 \n",
      "             34     1   0.0000000  103  1000002 -2000002 \n",
      "             35     1   0.0000000  103 -1000002  2000002 \n",
      "             36     1   0.0000000  103  1000003 -1000003 \n",
      "             37     1   0.0000000  103  2000003 -2000003 \n",
      "             38     1   0.0000000  103  1000003 -2000003 \n",
      "             39     1   0.0000000  103 -1000003  2000003 \n",
      "             40     1   0.0000000  103  1000004 -1000004 \n",
      "             41     1   0.0000000  103  2000004 -2000004 \n",
      "             42     1   0.0000000  103  1000004 -2000004 \n",
      "             43     1   0.0000000  103 -1000004  2000004 \n",
      "             44     1   0.0000000  103  1000005 -1000005 \n",
      "             45     1   0.0000000  103  2000005 -2000005 \n",
      "             46     1   0.0000000  103  1000005 -2000005 \n",
      "             47     1   0.0000000  103 -1000005  2000005 \n",
      "             48     1   0.0000000  103  1000006 -1000006 \n",
      "             49     1   0.0000000  103  2000006 -2000006 \n",
      "             50     1   0.0000000  103  1000006 -2000006 \n",
      "             51     1   0.0000000  103 -1000006  2000006 \n",
      "             52     1   0.0000000  103  1000011 -1000011 \n",
      "             53     1   0.0000000  103  2000011 -2000011 \n",
      "             54     1   0.0000000  103  1000011 -2000011 \n",
      "             55     1   0.0000000  103 -1000011  2000011 \n",
      "             56     1   0.0000000  103  1000012 -1000012 \n",
      "             57     1   0.0000000  103  2000012 -2000012 \n",
      "             58     1   0.0000000  103  1000012 -2000012 \n",
      "             59     1   0.0000000  103 -1000012  2000012 \n",
      "             60     1   0.0000000  103  1000013 -1000013 \n",
      "             61     1   0.0000000  103  2000013 -2000013 \n",
      "             62     1   0.0000000  103  1000013 -2000013 \n",
      "             63     1   0.0000000  103 -1000013  2000013 \n",
      "             64     1   0.0000000  103  1000014 -1000014 \n",
      "             65     1   0.0000000  103  2000014 -2000014 \n",
      "             66     1   0.0000000  103  1000014 -2000014 \n",
      "             67     1   0.0000000  103 -1000014  2000014 \n",
      "             68     1   0.0000000  103  1000015 -1000015 \n",
      "             69     1   0.0000000  103  2000015 -2000015 \n",
      "             70     1   0.0000000  103  1000015 -2000015 \n",
      "             71     1   0.0000000  103 -1000015  2000015 \n",
      "             72     1   0.0000000  103  1000016 -1000016 \n",
      "             73     1   0.0000000  103  2000016 -2000016 \n",
      "             74     1   0.0000000  103  1000016 -2000016 \n",
      "             75     1   0.0000000  103 -1000016  2000016 \n",
      "\n",
      " --------  End PYTHIA Particle Data Table  -----------------------------------------------------------------------------------------\n",
      "\n"
     ]
    },
    {
     "name": "stderr",
     "output_type": "stream",
     "text": [
      "Processing Events:   0%|                 | 29/75000 [00:00<04:21, 286.26event/s]"
     ]
    },
    {
     "name": "stdout",
     "output_type": "stream",
     "text": [
      "\n",
      " --------  LHA initialization information  ------------ \n",
      "\n",
      "  beam    kind      energy  pdfgrp  pdfset \n",
      "     A     -11      50.000       0       0\n",
      "     B      11      50.000       0       0\n",
      "\n",
      "  Event weighting strategy = -4\n",
      "\n",
      "  Processes, with strategy-dependent cross section info \n",
      "  number      xsec (pb)      xerr (pb)      xmax (pb) \n",
      "       1     5.2813e+01     1.6404e-02     5.2813e+01\n",
      "\n",
      " --------  End LHA initialization information  -------- \n",
      "\n",
      " --------  LHA event information and listing  ---------------------------------------------------------------------- \n",
      "\n",
      "    process =        1    weight =   5.2813e+01     scale =   1.0000e+02 (GeV) \n",
      "                        alpha_em =   7.5468e-03    alpha_strong =   1.1638e-01\n",
      "\n",
      "    Participating Particles \n",
      "    no        id stat     mothers     colours      p_x        p_y        p_z         e          m        tau    spin \n",
      "     1       -11   -1     0     0     0     0      0.000      0.000     50.000     50.000      0.000   0.000   1.000\n",
      "     2        11   -1     0     0     0     0     -0.000     -0.000    -50.000     50.000      0.000   0.000  -1.000\n",
      "     3        23    2     1     2     0     0      0.000      0.000      0.000    100.000    100.000   0.000   0.000\n",
      "     4       -15    1     3     3     0     0      4.001     15.278     47.407     50.000      1.777   0.000   1.000\n",
      "     5        15    1     3     3     0     0     -4.001    -15.278    -47.407     50.000      1.777   0.000  -1.000\n",
      "\n",
      " --------  End LHA event information and listing  ------------------------------------------------------------------ \n",
      "\n",
      " --------  PYTHIA Info Listing  ---------------------------------------- \n",
      " \n",
      " Beam A: id =    -11, pz =  5.000e+01, e =  5.000e+01, m =  5.110e-04.\n",
      " Beam B: id =     11, pz = -5.000e+01, e =  5.000e+01, m =  5.110e-04.\n",
      "\n",
      " In 1: id =  -11, x =  1.000e+00, pdf =  0.000e+00 at Q2 =  1.000e+04.\n",
      " In 2: id =   11, x =  1.000e+00, pdf =  0.000e+00 at same Q2.\n",
      "\n",
      " Process Les Houches User Process(es) with code 9999 is 2 -> 1.\n",
      " Subprocess user process 1 with code 1 is 2 -> 1.\n",
      " It has sHat =  1.000e+04.\n",
      "     alphaEM =  7.547e-03,  alphaS =  1.164e-01    at Q2 =  1.000e+04.\n",
      "\n",
      " Impact parameter b =  0.000e+00 gives enhancement factor =  1.000e+00.\n",
      " Max pT scale for MPI =  1.000e+02, ISR =  1.000e+02, FSR =  1.000e+02.\n",
      " Number of MPI =     1, ISR =     0, FSRproc =     0, FSRreson =     0.\n",
      "\n",
      " --------  End PYTHIA Info Listing  ------------------------------------\n",
      "\n",
      " --------  PYTHIA Event Listing  (hard process)  -----------------------------------------------------------------------------------\n",
      " \n",
      "    no         id  name            status     mothers   daughters     colours      p_x        p_y        p_z         e          m \n",
      "     0         90  (system)           -11     0     0     0     0     0     0      0.000      0.000      0.000    100.000    100.000\n",
      "     1        -11  (e+)               -12     0     0     3     0     0     0      0.000      0.000     50.000     50.000      0.001\n",
      "     2         11  (e-)               -12     0     0     4     0     0     0      0.000      0.000    -50.000     50.000      0.001\n",
      "     3        -11  (e+)               -21     1     0     5     0     0     0      0.000      0.000     50.000     50.000      0.000\n",
      "     4         11  (e-)               -21     2     0     5     0     0     0      0.000      0.000    -50.000     50.000      0.000\n",
      "     5         23  (Z0)               -22     3     4     6     7     0     0      0.000      0.000      0.000    100.000    100.000\n",
      "     6        -15  tau+                23     5     0     0     0     0     0      4.001     15.278     47.407     50.000      1.777\n",
      "     7         15  tau-                23     5     0     0     0     0     0     -4.001    -15.278    -47.407     50.000      1.777\n",
      "                                   Charge sum:  0.000           Momentum sum:      0.000      0.000      0.000    100.000    100.000\n",
      "\n",
      " --------  End PYTHIA Event Listing  -----------------------------------------------------------------------------------------------\n",
      "\n",
      " --------  PYTHIA Event Listing  (complete event)  ---------------------------------------------------------------------------------\n",
      " \n",
      "    no         id  name            status     mothers   daughters     colours      p_x        p_y        p_z         e          m \n",
      "     0         90  (system)           -11     0     0     0     0     0     0      0.000      0.000      0.000    100.000    100.000\n",
      "     1        -11  (e+)               -12     0     0     3     0     0     0      0.000      0.000     50.000     50.000      0.001\n",
      "     2         11  (e-)               -12     0     0     4     0     0     0      0.000      0.000    -50.000     50.000      0.001\n",
      "     3        -11  (e+)               -21     1     0     5     0     0     0      0.000      0.000     50.000     50.000      0.000\n",
      "     4         11  (e-)               -21     2     0     5     0     0     0      0.000      0.000    -50.000     50.000      0.000\n",
      "     5         23  (Z0)               -22     3     4     6     7     0     0      0.000      0.000      0.000    100.000    100.000\n",
      "     6        -15  (tau+)             -23     5     0    11    14     0     0      4.001     15.278     47.407     50.000      1.777\n",
      "     7         15  (tau-)             -23     5     0     8    10     0     0     -4.001    -15.278    -47.407     50.000      1.777\n",
      "     8         16  nu_tau              91     7     0     0     0     0     0      0.072     -0.228     -0.775      0.811      0.000\n",
      "     9         11  e-                  91     7     0     0     0     0     0     -2.236     -6.167    -18.292     19.433      0.001\n",
      "    10        -12  nu_ebar             91     7     0     0     0     0     0     -1.838     -8.883    -28.340     29.757      0.000\n",
      "    11        -16  nu_taubar           91     6     0     0     0     0     0      0.489      1.112      2.755      3.010      0.000\n",
      "    12        111  (pi0)              -91     6     0    15    16     0     0      0.310      0.884      2.555      2.725      0.135\n",
      "    13        111  (pi0)              -91     6     0    17    18     0     0      1.446      5.095     15.528     16.407      0.135\n",
      "    14        211  pi+                 91     6     0     0     0     0     0      1.755      8.186     26.569     27.858      0.140\n",
      "    15         22  gamma               91    12     0     0     0     0     0      0.147      0.611      1.703      1.815      0.000\n",
      "    16         22  gamma               91    12     0     0     0     0     0      0.163      0.273      0.852      0.909      0.000\n",
      "    17         22  gamma               91    13     0     0     0     0     0      0.853      2.932      9.148      9.644      0.000\n",
      "    18         22  gamma               91    13     0     0     0     0     0      0.593      2.163      6.380      6.763      0.000\n",
      "                                   Charge sum:  0.000           Momentum sum:     -0.000     -0.000     -0.000    100.000    100.000\n",
      "\n",
      " --------  End PYTHIA Event Listing  -----------------------------------------------------------------------------------------------\n",
      "#--------------------------------------------------------------------------\n",
      "#                         FastJet release 3.4.3\n",
      "#                 M. Cacciari, G.P. Salam and G. Soyez                  \n",
      "#     A software package for jet finding and analysis at colliders      \n",
      "#                           http://fastjet.fr                           \n",
      "#\t                                                                      \n",
      "# Please cite EPJC72(2012)1896 [arXiv:1111.6097] if you use this package\n",
      "# for scientific work and optionally PLB641(2006)57 [hep-ph/0512210].   \n",
      "#                                                                       \n",
      "# FastJet is provided without warranty under the GNU GPL v2 or higher.  \n",
      "# It uses T. Chan's closest pair algorithm, S. Fortune's Voronoi code,\n",
      "# CGAL and 3rd party plugin jet algorithms. See COPYING file for details.\n",
      "#---------------------------------------------------"
     ]
    },
    {
     "name": "stderr",
     "output_type": "stream",
     "text": [
      "Processing Events:   0%|                 | 62/75000 [00:00<04:05, 305.36event/s]"
     ]
    },
    {
     "name": "stdout",
     "output_type": "stream",
     "text": [
      "-----------------------\n"
     ]
    },
    {
     "name": "stderr",
     "output_type": "stream",
     "text": [
      "Processing Events:   1%|▏              | 1028/75000 [00:03<04:00, 307.01event/s]"
     ]
    },
    {
     "name": "stdout",
     "output_type": "stream",
     "text": [
      "\n",
      " Pythia::next(): 1000 events have been generated \n"
     ]
    },
    {
     "name": "stderr",
     "output_type": "stream",
     "text": [
      "Processing Events:   3%|▍              | 2034/75000 [00:06<04:04, 298.40event/s]"
     ]
    },
    {
     "name": "stdout",
     "output_type": "stream",
     "text": [
      "\n",
      " Pythia::next(): 2000 events have been generated \n"
     ]
    },
    {
     "name": "stderr",
     "output_type": "stream",
     "text": [
      "Processing Events:   4%|▌              | 3033/75000 [00:09<03:49, 313.99event/s]"
     ]
    },
    {
     "name": "stdout",
     "output_type": "stream",
     "text": [
      "\n",
      " Pythia::next(): 3000 events have been generated \n"
     ]
    },
    {
     "name": "stderr",
     "output_type": "stream",
     "text": [
      "Processing Events:   5%|▊              | 4064/75000 [00:13<03:40, 321.95event/s]"
     ]
    },
    {
     "name": "stdout",
     "output_type": "stream",
     "text": [
      "\n",
      " Pythia::next(): 4000 events have been generated \n"
     ]
    },
    {
     "name": "stderr",
     "output_type": "stream",
     "text": [
      "Processing Events:   7%|█              | 5053/75000 [00:16<03:14, 358.74event/s]"
     ]
    },
    {
     "name": "stdout",
     "output_type": "stream",
     "text": [
      "\n",
      " Pythia::next(): 5000 events have been generated \n"
     ]
    },
    {
     "name": "stderr",
     "output_type": "stream",
     "text": [
      "Processing Events:   8%|█▏             | 6047/75000 [00:19<03:57, 290.84event/s]"
     ]
    },
    {
     "name": "stdout",
     "output_type": "stream",
     "text": [
      " PYTHIA Warning in TauDecays::decay: maximum decay weight exceeded in correlated tau decay\n",
      "\n",
      " Pythia::next(): 6000 events have been generated \n"
     ]
    },
    {
     "name": "stderr",
     "output_type": "stream",
     "text": [
      "Processing Events:   9%|█▍             | 7047/75000 [00:23<03:43, 303.67event/s]"
     ]
    },
    {
     "name": "stdout",
     "output_type": "stream",
     "text": [
      "\n",
      " Pythia::next(): 7000 events have been generated \n"
     ]
    },
    {
     "name": "stderr",
     "output_type": "stream",
     "text": [
      "Processing Events:  11%|█▌             | 8035/75000 [00:26<03:34, 312.84event/s]"
     ]
    },
    {
     "name": "stdout",
     "output_type": "stream",
     "text": [
      "\n",
      " Pythia::next(): 8000 events have been generated \n"
     ]
    },
    {
     "name": "stderr",
     "output_type": "stream",
     "text": [
      "Processing Events:  12%|█▊             | 9045/75000 [00:29<04:08, 265.49event/s]"
     ]
    },
    {
     "name": "stdout",
     "output_type": "stream",
     "text": [
      "\n",
      " Pythia::next(): 9000 events have been generated \n"
     ]
    },
    {
     "name": "stderr",
     "output_type": "stream",
     "text": [
      "Processing Events:  13%|█▉            | 10047/75000 [00:33<03:47, 285.14event/s]"
     ]
    },
    {
     "name": "stdout",
     "output_type": "stream",
     "text": [
      "\n",
      " Pythia::next(): 10000 events have been generated \n"
     ]
    },
    {
     "name": "stderr",
     "output_type": "stream",
     "text": [
      "Processing Events:  15%|██            | 11062/75000 [00:36<03:07, 341.03event/s]"
     ]
    },
    {
     "name": "stdout",
     "output_type": "stream",
     "text": [
      "\n",
      " Pythia::next(): 11000 events have been generated \n"
     ]
    },
    {
     "name": "stderr",
     "output_type": "stream",
     "text": [
      "Processing Events:  16%|██▏           | 12045/75000 [00:39<03:48, 275.08event/s]"
     ]
    },
    {
     "name": "stdout",
     "output_type": "stream",
     "text": [
      "\n",
      " Pythia::next(): 12000 events have been generated \n"
     ]
    },
    {
     "name": "stderr",
     "output_type": "stream",
     "text": [
      "Processing Events:  17%|██▍           | 13038/75000 [00:42<03:23, 304.26event/s]"
     ]
    },
    {
     "name": "stdout",
     "output_type": "stream",
     "text": [
      "\n",
      " Pythia::next(): 13000 events have been generated \n"
     ]
    },
    {
     "name": "stderr",
     "output_type": "stream",
     "text": [
      "Processing Events:  19%|██▌           | 14044/75000 [00:46<03:33, 285.77event/s]"
     ]
    },
    {
     "name": "stdout",
     "output_type": "stream",
     "text": [
      "\n",
      " Pythia::next(): 14000 events have been generated \n"
     ]
    },
    {
     "name": "stderr",
     "output_type": "stream",
     "text": [
      "Processing Events:  20%|██▊           | 15046/75000 [00:49<02:54, 343.62event/s]"
     ]
    },
    {
     "name": "stdout",
     "output_type": "stream",
     "text": [
      "\n",
      " Pythia::next(): 15000 events have been generated \n"
     ]
    },
    {
     "name": "stderr",
     "output_type": "stream",
     "text": [
      "Processing Events:  21%|███           | 16084/75000 [00:52<03:00, 327.12event/s]"
     ]
    },
    {
     "name": "stdout",
     "output_type": "stream",
     "text": [
      "\n",
      " Pythia::next(): 16000 events have been generated \n"
     ]
    },
    {
     "name": "stderr",
     "output_type": "stream",
     "text": [
      "Processing Events:  23%|███▏          | 17055/75000 [00:56<03:00, 320.75event/s]"
     ]
    },
    {
     "name": "stdout",
     "output_type": "stream",
     "text": [
      " PYTHIA Warning in TauDecays::decay: maximum decay weight exceeded in tau decay\n",
      "\n",
      " Pythia::next(): 17000 events have been generated \n"
     ]
    },
    {
     "name": "stderr",
     "output_type": "stream",
     "text": [
      "Processing Events:  24%|███▎          | 18042/75000 [00:59<02:50, 333.47event/s]"
     ]
    },
    {
     "name": "stdout",
     "output_type": "stream",
     "text": [
      "\n",
      " Pythia::next(): 18000 events have been generated \n"
     ]
    },
    {
     "name": "stderr",
     "output_type": "stream",
     "text": [
      "Processing Events:  25%|███▌          | 19046/75000 [01:02<03:28, 268.81event/s]"
     ]
    },
    {
     "name": "stdout",
     "output_type": "stream",
     "text": [
      "\n",
      " Pythia::next(): 19000 events have been generated \n"
     ]
    },
    {
     "name": "stderr",
     "output_type": "stream",
     "text": [
      "Processing Events:  27%|███▋          | 20046/75000 [01:05<02:39, 344.85event/s]"
     ]
    },
    {
     "name": "stdout",
     "output_type": "stream",
     "text": [
      "\n",
      " Pythia::next(): 20000 events have been generated \n"
     ]
    },
    {
     "name": "stderr",
     "output_type": "stream",
     "text": [
      "Processing Events:  28%|███▉          | 21038/75000 [01:08<02:57, 303.41event/s]"
     ]
    },
    {
     "name": "stdout",
     "output_type": "stream",
     "text": [
      "\n",
      " Pythia::next(): 21000 events have been generated \n"
     ]
    },
    {
     "name": "stderr",
     "output_type": "stream",
     "text": [
      "Processing Events:  29%|████          | 22037/75000 [01:12<02:49, 312.27event/s]"
     ]
    },
    {
     "name": "stdout",
     "output_type": "stream",
     "text": [
      "\n",
      " Pythia::next(): 22000 events have been generated \n"
     ]
    },
    {
     "name": "stderr",
     "output_type": "stream",
     "text": [
      "Processing Events:  31%|████▎         | 23047/75000 [01:15<02:43, 317.15event/s]"
     ]
    },
    {
     "name": "stdout",
     "output_type": "stream",
     "text": [
      "\n",
      " Pythia::next(): 23000 events have been generated \n"
     ]
    },
    {
     "name": "stderr",
     "output_type": "stream",
     "text": [
      "Processing Events:  32%|████▍         | 24053/75000 [01:18<03:25, 247.63event/s]"
     ]
    },
    {
     "name": "stdout",
     "output_type": "stream",
     "text": [
      "\n",
      " Pythia::next(): 24000 events have been generated \n"
     ]
    },
    {
     "name": "stderr",
     "output_type": "stream",
     "text": [
      "Processing Events:  33%|████▋         | 25069/75000 [01:21<02:29, 335.10event/s]"
     ]
    },
    {
     "name": "stdout",
     "output_type": "stream",
     "text": [
      "\n",
      " Pythia::next(): 25000 events have been generated \n"
     ]
    },
    {
     "name": "stderr",
     "output_type": "stream",
     "text": [
      "Processing Events:  35%|████▊         | 26075/75000 [01:25<02:32, 320.05event/s]"
     ]
    },
    {
     "name": "stdout",
     "output_type": "stream",
     "text": [
      "\n",
      " Pythia::next(): 26000 events have been generated \n"
     ]
    },
    {
     "name": "stderr",
     "output_type": "stream",
     "text": [
      "Processing Events:  36%|█████         | 27051/75000 [01:28<02:32, 313.93event/s]"
     ]
    },
    {
     "name": "stdout",
     "output_type": "stream",
     "text": [
      "\n",
      " Pythia::next(): 27000 events have been generated \n"
     ]
    },
    {
     "name": "stderr",
     "output_type": "stream",
     "text": [
      "Processing Events:  37%|█████▏        | 28031/75000 [01:31<02:49, 276.75event/s]"
     ]
    },
    {
     "name": "stdout",
     "output_type": "stream",
     "text": [
      "\n",
      " Pythia::next(): 28000 events have been generated \n"
     ]
    },
    {
     "name": "stderr",
     "output_type": "stream",
     "text": [
      "Processing Events:  39%|█████▍        | 29068/75000 [01:35<02:38, 290.23event/s]"
     ]
    },
    {
     "name": "stdout",
     "output_type": "stream",
     "text": [
      "\n",
      " Pythia::next(): 29000 events have been generated \n"
     ]
    },
    {
     "name": "stderr",
     "output_type": "stream",
     "text": [
      "Processing Events:  40%|█████▌        | 30059/75000 [01:38<02:26, 307.74event/s]"
     ]
    },
    {
     "name": "stdout",
     "output_type": "stream",
     "text": [
      "\n",
      " Pythia::next(): 30000 events have been generated \n"
     ]
    },
    {
     "name": "stderr",
     "output_type": "stream",
     "text": [
      "Processing Events:  41%|█████▊        | 31054/75000 [01:41<02:12, 330.67event/s]"
     ]
    },
    {
     "name": "stdout",
     "output_type": "stream",
     "text": [
      "\n",
      " Pythia::next(): 31000 events have been generated \n"
     ]
    },
    {
     "name": "stderr",
     "output_type": "stream",
     "text": [
      "Processing Events:  43%|█████▉        | 32034/75000 [01:44<02:14, 318.54event/s]"
     ]
    },
    {
     "name": "stdout",
     "output_type": "stream",
     "text": [
      "\n",
      " Pythia::next(): 32000 events have been generated \n"
     ]
    },
    {
     "name": "stderr",
     "output_type": "stream",
     "text": [
      "Processing Events:  44%|██████▏       | 33049/75000 [01:48<02:18, 302.87event/s]"
     ]
    },
    {
     "name": "stdout",
     "output_type": "stream",
     "text": [
      "\n",
      " Pythia::next(): 33000 events have been generated \n"
     ]
    },
    {
     "name": "stderr",
     "output_type": "stream",
     "text": [
      "Processing Events:  45%|██████▎       | 34064/75000 [01:51<02:05, 326.34event/s]"
     ]
    },
    {
     "name": "stdout",
     "output_type": "stream",
     "text": [
      "\n",
      " Pythia::next(): 34000 events have been generated \n"
     ]
    },
    {
     "name": "stderr",
     "output_type": "stream",
     "text": [
      "Processing Events:  47%|██████▌       | 35037/75000 [01:54<01:58, 338.25event/s]"
     ]
    },
    {
     "name": "stdout",
     "output_type": "stream",
     "text": [
      "\n",
      " Pythia::next(): 35000 events have been generated \n"
     ]
    },
    {
     "name": "stderr",
     "output_type": "stream",
     "text": [
      "Processing Events:  48%|██████▋       | 36048/75000 [01:57<02:11, 296.74event/s]"
     ]
    },
    {
     "name": "stdout",
     "output_type": "stream",
     "text": [
      "\n",
      " Pythia::next(): 36000 events have been generated \n"
     ]
    },
    {
     "name": "stderr",
     "output_type": "stream",
     "text": [
      "Processing Events:  49%|██████▉       | 37045/75000 [02:01<02:38, 239.79event/s]"
     ]
    },
    {
     "name": "stdout",
     "output_type": "stream",
     "text": [
      "\n",
      " Pythia::next(): 37000 events have been generated \n"
     ]
    },
    {
     "name": "stderr",
     "output_type": "stream",
     "text": [
      "Processing Events:  51%|███████       | 38087/75000 [02:04<01:53, 324.25event/s]"
     ]
    },
    {
     "name": "stdout",
     "output_type": "stream",
     "text": [
      "\n",
      " Pythia::next(): 38000 events have been generated \n"
     ]
    },
    {
     "name": "stderr",
     "output_type": "stream",
     "text": [
      "Processing Events:  52%|███████▎      | 39059/75000 [02:07<01:53, 316.20event/s]"
     ]
    },
    {
     "name": "stdout",
     "output_type": "stream",
     "text": [
      "\n",
      " Pythia::next(): 39000 events have been generated \n"
     ]
    },
    {
     "name": "stderr",
     "output_type": "stream",
     "text": [
      "Processing Events:  53%|███████▍      | 40042/75000 [02:11<02:01, 288.34event/s]"
     ]
    },
    {
     "name": "stdout",
     "output_type": "stream",
     "text": [
      "\n",
      " Pythia::next(): 40000 events have been generated \n"
     ]
    },
    {
     "name": "stderr",
     "output_type": "stream",
     "text": [
      "Processing Events:  55%|███████▋      | 41048/75000 [02:14<02:12, 256.47event/s]"
     ]
    },
    {
     "name": "stdout",
     "output_type": "stream",
     "text": [
      "\n",
      " Pythia::next(): 41000 events have been generated \n"
     ]
    },
    {
     "name": "stderr",
     "output_type": "stream",
     "text": [
      "Processing Events:  56%|███████▊      | 42037/75000 [02:17<01:42, 320.32event/s]"
     ]
    },
    {
     "name": "stdout",
     "output_type": "stream",
     "text": [
      "\n",
      " Pythia::next(): 42000 events have been generated \n"
     ]
    },
    {
     "name": "stderr",
     "output_type": "stream",
     "text": [
      "Processing Events:  57%|████████      | 43050/75000 [02:21<01:53, 282.48event/s]"
     ]
    },
    {
     "name": "stdout",
     "output_type": "stream",
     "text": [
      "\n",
      " Pythia::next(): 43000 events have been generated \n"
     ]
    },
    {
     "name": "stderr",
     "output_type": "stream",
     "text": [
      "Processing Events:  59%|████████▏     | 44058/75000 [02:24<01:39, 310.29event/s]"
     ]
    },
    {
     "name": "stdout",
     "output_type": "stream",
     "text": [
      "\n",
      " Pythia::next(): 44000 events have been generated \n"
     ]
    },
    {
     "name": "stderr",
     "output_type": "stream",
     "text": [
      "Processing Events:  60%|████████▍     | 45041/75000 [02:27<01:37, 306.88event/s]"
     ]
    },
    {
     "name": "stdout",
     "output_type": "stream",
     "text": [
      "\n",
      " Pythia::next(): 45000 events have been generated \n"
     ]
    },
    {
     "name": "stderr",
     "output_type": "stream",
     "text": [
      "Processing Events:  61%|████████▌     | 46045/75000 [02:31<01:28, 328.99event/s]"
     ]
    },
    {
     "name": "stdout",
     "output_type": "stream",
     "text": [
      "\n",
      " Pythia::next(): 46000 events have been generated \n"
     ]
    },
    {
     "name": "stderr",
     "output_type": "stream",
     "text": [
      "Processing Events:  63%|████████▊     | 47046/75000 [02:34<02:02, 228.16event/s]"
     ]
    },
    {
     "name": "stdout",
     "output_type": "stream",
     "text": [
      "\n",
      " Pythia::next(): 47000 events have been generated \n"
     ]
    },
    {
     "name": "stderr",
     "output_type": "stream",
     "text": [
      "Processing Events:  64%|████████▉     | 48063/75000 [02:37<01:27, 308.37event/s]"
     ]
    },
    {
     "name": "stdout",
     "output_type": "stream",
     "text": [
      "\n",
      " Pythia::next(): 48000 events have been generated \n"
     ]
    },
    {
     "name": "stderr",
     "output_type": "stream",
     "text": [
      "Processing Events:  65%|█████████▏    | 49085/75000 [02:40<01:12, 355.30event/s]"
     ]
    },
    {
     "name": "stdout",
     "output_type": "stream",
     "text": [
      "\n",
      " Pythia::next(): 49000 events have been generated \n"
     ]
    },
    {
     "name": "stderr",
     "output_type": "stream",
     "text": [
      "Processing Events:  67%|█████████▎    | 50034/75000 [02:43<01:17, 321.82event/s]"
     ]
    },
    {
     "name": "stdout",
     "output_type": "stream",
     "text": [
      "\n",
      " Pythia::next(): 50000 events have been generated \n"
     ]
    },
    {
     "name": "stderr",
     "output_type": "stream",
     "text": [
      "Processing Events:  68%|█████████▌    | 51036/75000 [02:47<01:16, 311.65event/s]"
     ]
    },
    {
     "name": "stdout",
     "output_type": "stream",
     "text": [
      "\n",
      " Pythia::next(): 51000 events have been generated \n"
     ]
    },
    {
     "name": "stderr",
     "output_type": "stream",
     "text": [
      "Processing Events:  69%|█████████▋    | 52045/75000 [02:50<01:02, 366.17event/s]"
     ]
    },
    {
     "name": "stdout",
     "output_type": "stream",
     "text": [
      "\n",
      " Pythia::next(): 52000 events have been generated \n"
     ]
    },
    {
     "name": "stderr",
     "output_type": "stream",
     "text": [
      "Processing Events:  71%|█████████▉    | 53053/75000 [02:53<01:04, 340.25event/s]"
     ]
    },
    {
     "name": "stdout",
     "output_type": "stream",
     "text": [
      "\n",
      " Pythia::next(): 53000 events have been generated \n"
     ]
    },
    {
     "name": "stderr",
     "output_type": "stream",
     "text": [
      "Processing Events:  72%|██████████    | 54057/75000 [02:56<01:07, 311.46event/s]"
     ]
    },
    {
     "name": "stdout",
     "output_type": "stream",
     "text": [
      "\n",
      " Pythia::next(): 54000 events have been generated \n"
     ]
    },
    {
     "name": "stderr",
     "output_type": "stream",
     "text": [
      "Processing Events:  73%|██████████▎   | 55054/75000 [03:00<01:11, 277.67event/s]"
     ]
    },
    {
     "name": "stdout",
     "output_type": "stream",
     "text": [
      "\n",
      " Pythia::next(): 55000 events have been generated \n"
     ]
    },
    {
     "name": "stderr",
     "output_type": "stream",
     "text": [
      "Processing Events:  75%|██████████▍   | 56039/75000 [03:03<00:52, 361.61event/s]"
     ]
    },
    {
     "name": "stdout",
     "output_type": "stream",
     "text": [
      "\n",
      " Pythia::next(): 56000 events have been generated \n"
     ]
    },
    {
     "name": "stderr",
     "output_type": "stream",
     "text": [
      "Processing Events:  76%|██████████▋   | 57043/75000 [03:06<00:56, 319.29event/s]"
     ]
    },
    {
     "name": "stdout",
     "output_type": "stream",
     "text": [
      "\n",
      " Pythia::next(): 57000 events have been generated \n"
     ]
    },
    {
     "name": "stderr",
     "output_type": "stream",
     "text": [
      "Processing Events:  77%|██████████▊   | 58074/75000 [03:09<00:48, 347.18event/s]"
     ]
    },
    {
     "name": "stdout",
     "output_type": "stream",
     "text": [
      "\n",
      " Pythia::next(): 58000 events have been generated \n"
     ]
    },
    {
     "name": "stderr",
     "output_type": "stream",
     "text": [
      "Processing Events:  79%|███████████   | 59083/75000 [03:12<00:46, 339.52event/s]"
     ]
    },
    {
     "name": "stdout",
     "output_type": "stream",
     "text": [
      "\n",
      " Pythia::next(): 59000 events have been generated \n"
     ]
    },
    {
     "name": "stderr",
     "output_type": "stream",
     "text": [
      "Processing Events:  80%|███████████▏  | 60071/75000 [03:15<00:41, 359.57event/s]"
     ]
    },
    {
     "name": "stdout",
     "output_type": "stream",
     "text": [
      "\n",
      " Pythia::next(): 60000 events have been generated \n"
     ]
    },
    {
     "name": "stderr",
     "output_type": "stream",
     "text": [
      "Processing Events:  81%|███████████▍  | 61045/75000 [03:18<00:42, 328.67event/s]"
     ]
    },
    {
     "name": "stdout",
     "output_type": "stream",
     "text": [
      "\n",
      " Pythia::next(): 61000 events have been generated \n"
     ]
    },
    {
     "name": "stderr",
     "output_type": "stream",
     "text": [
      "Processing Events:  83%|███████████▌  | 62060/75000 [03:21<00:44, 291.23event/s]"
     ]
    },
    {
     "name": "stdout",
     "output_type": "stream",
     "text": [
      "\n",
      " Pythia::next(): 62000 events have been generated \n"
     ]
    },
    {
     "name": "stderr",
     "output_type": "stream",
     "text": [
      "Processing Events:  84%|███████████▊  | 63061/75000 [03:24<00:36, 326.15event/s]"
     ]
    },
    {
     "name": "stdout",
     "output_type": "stream",
     "text": [
      "\n",
      " Pythia::next(): 63000 events have been generated \n"
     ]
    },
    {
     "name": "stderr",
     "output_type": "stream",
     "text": [
      "Processing Events:  85%|███████████▉  | 64071/75000 [03:28<00:32, 337.68event/s]"
     ]
    },
    {
     "name": "stdout",
     "output_type": "stream",
     "text": [
      "\n",
      " Pythia::next(): 64000 events have been generated \n"
     ]
    },
    {
     "name": "stderr",
     "output_type": "stream",
     "text": [
      "Processing Events:  87%|████████████▏ | 65036/75000 [03:31<00:31, 321.24event/s]"
     ]
    },
    {
     "name": "stdout",
     "output_type": "stream",
     "text": [
      "\n",
      " Pythia::next(): 65000 events have been generated \n"
     ]
    },
    {
     "name": "stderr",
     "output_type": "stream",
     "text": [
      "Processing Events:  88%|████████████▎ | 66063/75000 [03:34<00:26, 341.21event/s]"
     ]
    },
    {
     "name": "stdout",
     "output_type": "stream",
     "text": [
      "\n",
      " Pythia::next(): 66000 events have been generated \n"
     ]
    },
    {
     "name": "stderr",
     "output_type": "stream",
     "text": [
      "Processing Events:  89%|████████████▌ | 67053/75000 [03:37<00:23, 337.38event/s]"
     ]
    },
    {
     "name": "stdout",
     "output_type": "stream",
     "text": [
      "\n",
      " Pythia::next(): 67000 events have been generated \n"
     ]
    },
    {
     "name": "stderr",
     "output_type": "stream",
     "text": [
      "Processing Events:  91%|████████████▋ | 68050/75000 [03:40<00:22, 310.72event/s]"
     ]
    },
    {
     "name": "stdout",
     "output_type": "stream",
     "text": [
      "\n",
      " Pythia::next(): 68000 events have been generated \n"
     ]
    },
    {
     "name": "stderr",
     "output_type": "stream",
     "text": [
      "Processing Events:  92%|████████████▉ | 69038/75000 [03:43<00:19, 308.89event/s]"
     ]
    },
    {
     "name": "stdout",
     "output_type": "stream",
     "text": [
      "\n",
      " Pythia::next(): 69000 events have been generated \n"
     ]
    },
    {
     "name": "stderr",
     "output_type": "stream",
     "text": [
      "Processing Events:  93%|█████████████ | 70061/75000 [03:47<00:15, 312.09event/s]"
     ]
    },
    {
     "name": "stdout",
     "output_type": "stream",
     "text": [
      "\n",
      " Pythia::next(): 70000 events have been generated \n"
     ]
    },
    {
     "name": "stderr",
     "output_type": "stream",
     "text": [
      "Processing Events:  95%|█████████████▎| 71057/75000 [03:49<00:12, 324.62event/s]"
     ]
    },
    {
     "name": "stdout",
     "output_type": "stream",
     "text": [
      "\n",
      " Pythia::next(): 71000 events have been generated \n"
     ]
    },
    {
     "name": "stderr",
     "output_type": "stream",
     "text": [
      "Processing Events:  96%|█████████████▍| 72061/75000 [03:53<00:08, 328.94event/s]"
     ]
    },
    {
     "name": "stdout",
     "output_type": "stream",
     "text": [
      "\n",
      " Pythia::next(): 72000 events have been generated \n"
     ]
    },
    {
     "name": "stderr",
     "output_type": "stream",
     "text": [
      "Processing Events:  97%|█████████████▋| 73069/75000 [03:56<00:05, 362.28event/s]"
     ]
    },
    {
     "name": "stdout",
     "output_type": "stream",
     "text": [
      "\n",
      " Pythia::next(): 73000 events have been generated \n"
     ]
    },
    {
     "name": "stderr",
     "output_type": "stream",
     "text": [
      "Processing Events:  99%|█████████████▊| 74072/75000 [03:59<00:02, 343.58event/s]"
     ]
    },
    {
     "name": "stdout",
     "output_type": "stream",
     "text": [
      "\n",
      " Pythia::next(): 74000 events have been generated \n"
     ]
    },
    {
     "name": "stderr",
     "output_type": "stream",
     "text": [
      "Processing Events: 100%|██████████████| 75000/75000 [04:02<00:00, 309.48event/s]"
     ]
    },
    {
     "name": "stdout",
     "output_type": "stream",
     "text": [
      "\n",
      "Summary:\n",
      "  Processed events: 71415\n",
      "  Skipped events:   3585\n",
      "  Processing time:  242.35 seconds\n",
      "\n",
      " *-------  PYTHIA Event and Cross Section Statistics  -------------------------------------------------------------*\n",
      " |                                                                                                                 |\n",
      " | Subprocess                                    Code |            Number of events       |      sigma +- delta    |\n",
      " |                                                    |       Tried   Selected   Accepted |     (estimated) (mb)   |\n",
      " |                                                    |                                   |                        |\n",
      " |-----------------------------------------------------------------------------------------------------------------|\n",
      " |                                                    |                                   |                        |\n",
      " | Les Houches User Process(es)                  9999 |       75000      75000      75000 |   5.281e-08  0.000e+00 |\n",
      " |    ... whereof user classification code          1 |       75000      75000      75000 |                        | \n",
      " |                                                    |                                   |                        |\n",
      " | sum                                                |       75000      75000      75000 |   5.281e-08  0.000e+00 |\n",
      " |                                                                                                                 |\n",
      " *-------  End PYTHIA Event and Cross Section Statistics ----------------------------------------------------------*\n",
      "\n",
      " *-------  PYTHIA Error and Warning Messages Statistics  ----------------------------------------------------------* \n",
      " |                                                                                                                 | \n",
      " |  times   message                                                                                                | \n",
      " |                                                                                                                 | \n",
      " |      1   Warning in SLHAinterface::initSLHA: ignoring DECAY tables                                              | \n",
      " |      1   Warning in SLHAinterface::initSLHA: ignoring MASS entries                                              | \n",
      " |      1   Warning in SLHAinterface::initSLHA: ignoring empty DECAY tables                                        | \n",
      " |      6   Warning in TauDecays::decay: maximum decay weight exceeded in correlated tau decay                     | \n",
      " |      3   Warning in TauDecays::decay: maximum decay weight exceeded in tau decay                                | \n",
      " |      1   Info from SLHAinterface::initSLHA: No MODSEL found, keeping internal SUSY switched off                 | \n",
      " |                                                                                                                 | \n",
      " *-------  End PYTHIA Error and Warning Messages Statistics  ------------------------------------------------------* \n"
     ]
    },
    {
     "name": "stderr",
     "output_type": "stream",
     "text": [
      "\n"
     ]
    }
   ],
   "source": [
    "pythia = pythia8.Pythia()\n",
    "pythia.readString(\"Beams:frameType = 4\")\n",
    "pythia.readString(f\"Beams:LHEF = {lhe_file_path}\")\n",
    "pythia.readString(\"15:onMode = on\")  \n",
    "pythia.readString(\"HadronLevel:all = on\")\n",
    "pythia.init()\n",
    "\n",
    "jet_radius = 0.4\n",
    "delta_r_threshold = 0.3\n",
    "pT_cut = 10.0\n",
    "eta_cut = 2.5\n",
    "verbose = True\n",
    "\n",
    "log(f\"Jet clustering parameters:\")\n",
    "log(f\"Radius R               = {jet_radius}\")\n",
    "log(f\"ΔR match threshold     = {delta_r_threshold}\")\n",
    "log(f\"Jet pT cut             = {pT_cut} GeV\")\n",
    "log(f\"Jet η cut              = ±{eta_cut}\")\n",
    "\n",
    "truth_partons_list = []\n",
    "jets_list = []\n",
    "skipped_events = []\n",
    "\n",
    "start_time = time.time()\n",
    "\n",
    "for i_event in tqdm(range(total_num_events), desc=\"Processing Events\", unit=\"event\"):\n",
    "    if not pythia.next():\n",
    "        skipped_events.append({\"event_id\": i_event, \"reason\": \"Event generation failed.\"})\n",
    "        continue\n",
    "\n",
    "    try:\n",
    "        final_particles = [\n",
    "            (p.px(), p.py(), p.pz(), p.e(), p.id())\n",
    "            for p in pythia.event if p.isFinal()\n",
    "        ]\n",
    "\n",
    "        if not final_particles:\n",
    "            skipped_events.append({\"event_id\": i_event, \"reason\": \"No final-state particles.\"})\n",
    "            continue\n",
    "\n",
    "        event_data = {\"final_particles\": final_particles}\n",
    "        jets, cluster_sequence = cluster_jets(event_data, jet_radius, pT_cut, eta_cut)\n",
    "\n",
    "        if not jets:\n",
    "            skipped_events.append({\"event_id\": i_event, \"reason\": \"No jets after clustering.\"})\n",
    "            continue\n",
    "\n",
    "        truth_partons = truth_lvl_partons(pythia)\n",
    "\n",
    "        if not truth_partons:\n",
    "            skipped_events.append({\"event_id\": i_event, \"reason\": \"No truth-level tauons.\"})\n",
    "            continue\n",
    "\n",
    "        tagged_jets = match_and_tag_jets_with_kdtree(jets, truth_partons, delta_r_threshold, verbose=False)\n",
    "\n",
    "        truth_partons_list.append({\n",
    "            \"event_id\": i_event,\n",
    "            \"truth_partons\": truth_partons\n",
    "        })\n",
    "        jets_list.append({\n",
    "            \"event_id\": i_event,\n",
    "            \"jets\": tagged_jets\n",
    "        })\n",
    "\n",
    "    except Exception as e:\n",
    "        skipped_events.append({\n",
    "            \"event_id\": i_event,\n",
    "            \"reason\": f\"Error during processing: {str(e)}\"\n",
    "        })\n",
    "        continue\n",
    "\n",
    "pythia.stat()\n",
    "end_time = time.time()\n",
    "\n",
    "processed = len(truth_partons_list)\n",
    "skipped = len(skipped_events)\n",
    "duration = end_time - start_time\n",
    "\n",
    "print(f\"\\nSummary:\")\n",
    "print(f\"  Processed events: {processed}\")\n",
    "print(f\"  Skipped events:   {skipped}\")\n",
    "print(f\"  Processing time:  {duration:.2f} seconds\")\n",
    "\n",
    "log(f\"Jet clustering complete.\")\n",
    "log(f\"Processed events: {processed}\")\n",
    "log(f\"Skipped events:   {skipped}\")\n",
    "log(f\"Processing time:  {duration:.2f} seconds\")"
   ]
  },
  {
   "cell_type": "code",
   "execution_count": 6,
   "id": "b5359a78-28a4-49eb-ade1-a9fcb5df32a3",
   "metadata": {},
   "outputs": [
    {
     "name": "stdout",
     "output_type": "stream",
     "text": [
      "\n",
      "=== Jet Matching Summary ===\n",
      "Tau       : Matched =  62897, Truth =  71415, Efficiency =  88.07%\n",
      "Antitau   : Matched =  62946, Truth =  71415, Efficiency =  88.14%\n",
      "\n",
      "=== Charged Constituents Summary ===\n",
      "Total Jets Processed         : 126613\n",
      "Total Charged Constituents   : 174277\n",
      "Average Charged per Jet      : 1.38\n",
      "\n",
      "=== Charged Multiplicity (per class) ===\n",
      "Tau       : Jets = 62897, Avg Charged Multiplicity =   1.38\n",
      "Antitau   : Jets = 62946, Avg Charged Multiplicity =   1.38\n"
     ]
    }
   ],
   "source": [
    "truth_counts = defaultdict(int)\n",
    "matched_counts = defaultdict(int)\n",
    "charged_multiplicity_by_class = defaultdict(list)\n",
    "\n",
    "total_charged_constituents = 0\n",
    "total_jet_count = 0\n",
    "\n",
    "for truth_data, jet_data in zip(truth_partons_list, jets_list):\n",
    "    for parton in truth_data[\"truth_partons\"]:\n",
    "        pid = parton[\"id\"]\n",
    "        if pid == 15:\n",
    "            truth_counts[\"tau\"] += 1\n",
    "        elif pid == -15:\n",
    "            truth_counts[\"antitau\"] += 1\n",
    "\n",
    "    for jet in jet_data[\"jets\"]:\n",
    "        tag = jet[\"tag\"]\n",
    "        charged_mult = jet.get(\"charge_multiplicity\", 0)\n",
    "\n",
    "        total_charged_constituents += charged_mult\n",
    "        total_jet_count += 1\n",
    "\n",
    "        if tag in {\"tau\", \"antitau\"}:\n",
    "            matched_counts[tag] += 1\n",
    "            charged_multiplicity_by_class[tag].append(charged_mult)\n",
    "\n",
    "def compute_efficiency(matched, truth):\n",
    "    return (matched / truth) * 100 if truth > 0 else 0.0\n",
    "\n",
    "print(\"\\n=== Jet Matching Summary ===\")\n",
    "log(\"\\n=== Jet Matching Summary ===\")\n",
    "\n",
    "for tag in [\"tau\", \"antitau\"]:\n",
    "    matched = matched_counts[tag]\n",
    "    truth = truth_counts[tag]\n",
    "    efficiency = compute_efficiency(matched, truth)\n",
    "    line = f\"{tag.capitalize():<10}: Matched = {matched:6}, Truth = {truth:6}, Efficiency = {efficiency:6.2f}%\"\n",
    "    print(line)\n",
    "    log(line)\n",
    "\n",
    "avg_charged_per_jet = total_charged_constituents / total_jet_count if total_jet_count > 0 else 0\n",
    "\n",
    "print(\"\\n=== Charged Constituents Summary ===\")\n",
    "log(\"\\n=== Charged Constituents Summary ===\")\n",
    "\n",
    "print(f\"Total Jets Processed         : {total_jet_count}\")\n",
    "log(f\"Total Jets Processed         : {total_jet_count}\")\n",
    "print(f\"Total Charged Constituents   : {total_charged_constituents}\")\n",
    "log(f\"Total Charged Constituents   : {total_charged_constituents}\")\n",
    "print(f\"Average Charged per Jet      : {avg_charged_per_jet:.2f}\")\n",
    "log(f\"Average Charged per Jet      : {avg_charged_per_jet:.2f}\")\n",
    "\n",
    "print(\"\\n=== Charged Multiplicity (per class) ===\")\n",
    "log(\"\\n=== Charged Multiplicity (per class) ===\")\n",
    "\n",
    "for tag in [\"tau\", \"antitau\"]:\n",
    "    mults = charged_multiplicity_by_class[tag]\n",
    "    if mults:\n",
    "        avg = sum(mults) / len(mults)\n",
    "        line = f\"{tag.capitalize():<10}: Jets = {len(mults):5}, Avg Charged Multiplicity = {avg:6.2f}\"\n",
    "    else:\n",
    "        line = f\"{tag.capitalize():<10}: No matched jets.\"\n",
    "    print(line)\n",
    "    log(line)"
   ]
  },
  {
   "cell_type": "code",
   "execution_count": 7,
   "id": "d2c47a98-1d65-449c-a183-6b7dca085b98",
   "metadata": {},
   "outputs": [
    {
     "name": "stdout",
     "output_type": "stream",
     "text": [
      "Jet data saved to: /home/soumodip/Python/MSc_Project/Finalized_Project/Training_data_75k_100GeV/Tau_Pipeline/Tau_Datas/jet_data_tau.h5\n",
      "Time taken: 100.21 seconds\n"
     ]
    }
   ],
   "source": [
    "jet_save_start = time.time()\n",
    "\n",
    "with h5py.File(data_path / \"jet_data_tau.h5\", \"w\") as jet_file:\n",
    "    \n",
    "    jet_file.attrs[\"jet_radius\"] = jet_radius\n",
    "    jet_file.attrs[\"pt_cut\"] = pT_cut\n",
    "    jet_file.attrs[\"eta_cut\"] = eta_cut\n",
    "    jet_file.attrs[\"delta_r_threshold\"] = delta_r_threshold\n",
    "    jet_file.attrs[\"description\"] = (\n",
    "        \"Jet dataset from e+e- → τ+τ−. Contains jet-level and constituent-level information.\"\n",
    "    )\n",
    "    jet_file.attrs[\"constituent_format\"] = \"E, pT, eta, phi, charge, pdg_id\"\n",
    "    jet_file.attrs[\"n_events\"] = len(jets_list)\n",
    "\n",
    "    for i, jet_data in enumerate(jets_list):\n",
    "        event_group = jet_file.create_group(f\"event_{i}\")\n",
    "        jets = jet_data[\"jets\"]\n",
    "\n",
    "        pt = np.array([jet[\"pt\"] for jet in jets], dtype=np.float32)\n",
    "        eta = np.array([jet[\"eta\"] for jet in jets], dtype=np.float32)\n",
    "        phi = np.array([jet[\"phi\"] for jet in jets], dtype=np.float32)\n",
    "        mass = np.array([jet[\"mass\"] for jet in jets], dtype=np.float32)\n",
    "        multiplicity = np.array([jet[\"multiplicity\"] for jet in jets], dtype=np.int32)\n",
    "        n_charged = np.array([jet[\"charge_multiplicity\"] for jet in jets], dtype=np.int32)\n",
    "        tags = np.array([jet[\"tag\"].encode(\"utf-8\") for jet in jets])\n",
    "\n",
    "        event_group.create_dataset(\"pt\", data=pt)\n",
    "        event_group.create_dataset(\"eta\", data=eta)\n",
    "        event_group.create_dataset(\"phi\", data=phi)\n",
    "        event_group.create_dataset(\"mass\", data=mass)\n",
    "        event_group.create_dataset(\"multiplicity\", data=multiplicity)\n",
    "        event_group.create_dataset(\"charge_multiplicity\", data=n_charged)\n",
    "        event_group.create_dataset(\"tag\", data=tags)\n",
    "\n",
    "        event_group.attrs[\"n_jets\"] = len(jets)\n",
    "        event_group.attrs[\"constituent_format\"] = \"E, pT, eta, phi, charge, pdg_id\"\n",
    "\n",
    "        for j, jet in enumerate(jets):\n",
    "            constituents = np.array([\n",
    "                [c[\"e\"], c[\"pt\"], c[\"eta\"], c[\"phi\"], c[\"charge\"], c[\"pdg_id\"]]\n",
    "                for c in jet[\"constituents\"]\n",
    "            ], dtype=np.float32)\n",
    "            event_group.create_dataset(\n",
    "                f\"jet_{j}_constituents\",\n",
    "                data=constituents,\n",
    "                compression=\"gzip\",\n",
    "                compression_opts=9,\n",
    "                shuffle=True\n",
    "            )\n",
    "\n",
    "jet_save_end = time.time()\n",
    "\n",
    "print(f\"Jet data saved to: {data_path / 'jet_data_tau.h5'}\")\n",
    "print(f\"Time taken: {jet_save_end - jet_save_start:.2f} seconds\")"
   ]
  },
  {
   "cell_type": "code",
   "execution_count": 8,
   "id": "8c363d71-482a-4bd8-882c-c0b2249f0eea",
   "metadata": {},
   "outputs": [
    {
     "name": "stdout",
     "output_type": "stream",
     "text": [
      "Truth parton data saved to: /home/soumodip/Python/MSc_Project/Finalized_Project/Training_data_75k_100GeV/Tau_Pipeline/Tau_Datas/truth_parton_data_tau.h5\n",
      "Time taken: 71.98 seconds\n"
     ]
    }
   ],
   "source": [
    "truth_save_start = time.time()\n",
    "\n",
    "with h5py.File(data_path / \"truth_parton_data_tau.h5\", \"w\") as truth_file:\n",
    "  \n",
    "    truth_file.attrs[\"description\"] = \"Truth-level partons for e+e- → τ⁺τ⁻\"\n",
    "    truth_file.attrs[\"columns\"] = \"id, pt, eta, phi, e\"\n",
    "    truth_file.attrs[\"n_events\"] = len(truth_partons_list)\n",
    "\n",
    "    for i, truth_data in enumerate(truth_partons_list):\n",
    "        event_group = truth_file.create_group(f\"event_{i}\")\n",
    "        partons = truth_data[\"truth_partons\"]\n",
    "\n",
    "        parton_ids  = np.array([p[\"id\"]  for p in partons], dtype=np.int32)\n",
    "        parton_pt   = np.array([p[\"pt\"]  for p in partons], dtype=np.float32)\n",
    "        parton_eta  = np.array([p[\"eta\"] for p in partons], dtype=np.float32)\n",
    "        parton_phi  = np.array([p[\"phi\"] for p in partons], dtype=np.float32)\n",
    "        parton_e    = np.array([p[\"e\"]   for p in partons], dtype=np.float32)\n",
    "\n",
    "        event_group.create_dataset(\"id\",  data=parton_ids,  compression=\"gzip\", compression_opts=9, shuffle=True)\n",
    "        event_group.create_dataset(\"pt\",  data=parton_pt,   compression=\"gzip\", compression_opts=9, shuffle=True)\n",
    "        event_group.create_dataset(\"eta\", data=parton_eta,  compression=\"gzip\", compression_opts=9, shuffle=True)\n",
    "        event_group.create_dataset(\"phi\", data=parton_phi,  compression=\"gzip\", compression_opts=9, shuffle=True)\n",
    "        event_group.create_dataset(\"e\",   data=parton_e,    compression=\"gzip\", compression_opts=9, shuffle=True)\n",
    "\n",
    "        event_group.attrs[\"n_partons\"] = len(partons)\n",
    "\n",
    "truth_save_end = time.time()\n",
    "\n",
    "print(f\"Truth parton data saved to: {data_path / 'truth_parton_data_tau.h5'}\")\n",
    "print(f\"Time taken: {truth_save_end - truth_save_start:.2f} seconds\")"
   ]
  },
  {
   "cell_type": "code",
   "execution_count": 9,
   "id": "4d83e98a-83f6-4fc9-bf7f-8bb0184da1a0",
   "metadata": {},
   "outputs": [
    {
     "name": "stdout",
     "output_type": "stream",
     "text": [
      "Skipped events data saved to: /home/soumodip/Python/MSc_Project/Finalized_Project/Training_data_75k_100GeV/Tau_Pipeline/Tau_Datas/skipped_events_data_tau.json\n",
      "Skipped events saved in 0.02 seconds.\n"
     ]
    }
   ],
   "source": [
    "skipped_save_start = time.time()\n",
    "\n",
    "skipped_data = [\n",
    "    {\"event_id\": s[\"event_id\"], \"reason\": s[\"reason\"]}\n",
    "    for s in skipped_events\n",
    "]\n",
    "\n",
    "with open(data_path / \"skipped_events_data_tau.json\", \"w\") as f:\n",
    "    json.dump(skipped_data, f, indent=2)\n",
    "\n",
    "skipped_save_end = time.time()\n",
    "\n",
    "print(f\"Skipped events data saved to: {data_path / 'skipped_events_data_tau.json'}\")\n",
    "print(f\"Skipped events saved in {skipped_save_end - skipped_save_start:.2f} seconds.\")"
   ]
  }
 ],
 "metadata": {
  "kernelspec": {
   "display_name": "Python 3 (ipykernel)",
   "language": "python",
   "name": "python3"
  },
  "language_info": {
   "codemirror_mode": {
    "name": "ipython",
    "version": 3
   },
   "file_extension": ".py",
   "mimetype": "text/x-python",
   "name": "python",
   "nbconvert_exporter": "python",
   "pygments_lexer": "ipython3",
   "version": "3.12.3"
  }
 },
 "nbformat": 4,
 "nbformat_minor": 5
}
