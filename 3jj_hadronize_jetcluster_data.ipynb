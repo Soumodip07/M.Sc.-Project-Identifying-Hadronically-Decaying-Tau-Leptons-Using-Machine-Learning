{
 "cells": [
  {
   "cell_type": "markdown",
   "id": "053ea356-a44f-46d6-8579-7e9126c8fc22",
   "metadata": {},
   "source": [
    "## ***<u>Process</u> : $e^+ e^- \\to  q \\overline{q}$*** \n",
    "---"
   ]
  },
  {
   "cell_type": "code",
   "execution_count": 1,
   "id": "45ea3e24-4b05-4863-a050-c4eb853b7e78",
   "metadata": {},
   "outputs": [
    {
     "name": "stdout",
     "output_type": "stream",
     "text": [
      "Library path added: /home/soumodip/Documents/pythia8312/lib\n",
      "\n",
      "LHE file: e+e-jj_75k_100GeV.lhe\n",
      "Number of events: 75000\n",
      "Center-of-Mass Energy (E_cm): 100.0 GeV\n",
      "Time to count events: 3.85 seconds\n",
      "\n"
     ]
    }
   ],
   "source": [
    "# ─── Import Core Python Modules ───────────────────────────────────────────────\n",
    "import sys\n",
    "from pathlib import Path            # For managing filesystem paths\n",
    "from datetime import datetime       # For timestamping logs\n",
    "import time                         # For measuring execution duration\n",
    "from itertools import islice        # For efficient iteration over large files\n",
    "\n",
    "# ─── Define Key File Paths ────────────────────────────────────────────────────\n",
    "makefile_path = Path(\"/home/soumodip/Documents/pythia8312/examples/Makefile.inc\")  # Pythia build info\n",
    "default_lib = \"../lib\"  # Default fallback for library path\n",
    "\n",
    "# Path to LHE file for e⁺e⁻ → jj process\n",
    "lhe_file_path = Path(\"/home/soumodip/Python/MSc_Project/Finalized_Project/Training_data_75k_100GeV/LHE_Files/e+e-jj_75k_100GeV.lhe\")\n",
    "\n",
    "# Directory to store output data and logs\n",
    "data_path = Path(\"/home/soumodip/Python/MSc_Project/Finalized_Project/Training_data_75k_100GeV/JJ_Pipeline/JJ_Datas\")\n",
    "log_path = data_path / \"jj_pipeline.log\"  # Log file for JJ pipeline\n",
    "\n",
    "# ─── Logging Utility ──────────────────────────────────────────────────────────\n",
    "def log(message):\n",
    "    \"\"\"Append a timestamped message to the log file.\"\"\"\n",
    "    timestamp = datetime.now().strftime(\"[%Y-%m-%d %H:%M:%S]\")\n",
    "    with open(log_path, \"a\") as f:\n",
    "        f.write(f\"{timestamp} {message}\\n\")\n",
    "\n",
    "# ─── Set Pythia8 Library Path Dynamically ─────────────────────────────────────\n",
    "if makefile_path.is_file():\n",
    "    with makefile_path.open() as cfg:\n",
    "        lib = default_lib\n",
    "        for line in cfg:\n",
    "            if line.startswith(\"PREFIX_LIB=\"):\n",
    "                lib = line.split(\"=\", 1)[1].strip()  # Use custom lib path if found\n",
    "                break\n",
    "        sys.path.insert(0, lib)\n",
    "        print(f\"Library path added: {lib}\\n\")\n",
    "        log(f\"Library path added: {lib}\")\n",
    "else:\n",
    "    # Exit if Makefile is not found\n",
    "    err_msg = f\"Error: File '{makefile_path}' does not exist.\"\n",
    "    print(err_msg)\n",
    "    log(err_msg)\n",
    "    sys.exit(1)\n",
    "\n",
    "# ─── Import External Libraries After Library Path Is Set ──────────────────────\n",
    "import pylhe           # For reading LHE (Les Houches Event) files\n",
    "import pythia8         # For parton showering and hadronization with Pythia8\n",
    "\n",
    "# ─── Count Total Number of Events in LHE File ─────────────────────────────────\n",
    "start_time = time.time()\n",
    "\n",
    "def no_of_events(file_path):\n",
    "    \"\"\"Return total number of events in the LHE file.\"\"\"\n",
    "    return sum(1 for _ in islice(pylhe.read_lhe_with_attributes(file_path), None))\n",
    "\n",
    "total_num_events = no_of_events(lhe_file_path)\n",
    "end_time = time.time()\n",
    "\n",
    "# ─── Extract Center-of-Mass Energy from LHE Header ────────────────────────────\n",
    "e_cm = None\n",
    "with open(lhe_file_path) as f:\n",
    "    for line in f:\n",
    "        if line.strip().startswith(\"<init>\"):\n",
    "            init_line = next(f)\n",
    "            init_parts = list(map(float, init_line.split()))\n",
    "            e_cm = init_parts[2] + init_parts[3]  # Sum of incoming beam energies\n",
    "            break\n",
    "\n",
    "# ─── Display and Log LHE File Info ────────────────────────────────────────────\n",
    "print(f\"LHE file: {lhe_file_path.name}\")\n",
    "print(f\"Number of events: {total_num_events}\")\n",
    "print(f\"Center-of-Mass Energy (E_cm): {e_cm:.1f} GeV\")\n",
    "print(f\"Time to count events: {end_time - start_time:.2f} seconds\\n\")\n",
    "\n",
    "log(f\"LHE file: {lhe_file_path.name}\")\n",
    "log(f\"Number of events: {total_num_events}\")\n",
    "log(f\"Center-of-Mass Energy (E_cm): {e_cm:.1f} GeV\")\n",
    "log(f\"Time to count events: {end_time - start_time:.2f} seconds\")\n",
    "\n",
    "# ─── Import Additional Libraries for Jet Clustering and Data Handling ─────────\n",
    "import numpy as np                      # For numerical operations\n",
    "import matplotlib.pyplot as plt         # For plotting\n",
    "import fastjet as fj                    # For jet clustering with FastJet\n",
    "from scipy.spatial import KDTree        # For efficient nearest-neighbor search\n",
    "from tqdm import tqdm                   # For progress bars\n",
    "import h5py                             # For reading/writing HDF5 files\n",
    "import json                             # For saving skipped events or metadata\n",
    "from collections import defaultdict     # For flexible counters and mappings"
   ]
  },
  {
   "cell_type": "code",
   "execution_count": 2,
   "id": "88b55791-f041-4c49-99bd-c33b1363e26b",
   "metadata": {},
   "outputs": [],
   "source": [
    "def truth_lvl_partons(pythia, top_k=1):\n",
    "    \"\"\"\n",
    "    Extract truth-level partons (quarks and gluons) from a Pythia event.\n",
    "\n",
    "    Args:\n",
    "        pythia (pythia8.Pythia): Initialized Pythia object after event generation.\n",
    "        top_k (int): Number of highest-pT gluons to include, in addition to quarks.\n",
    "\n",
    "    Returns:\n",
    "        List[dict]: A list of dictionaries with keys: id, pt, eta, phi, e\n",
    "    \"\"\"\n",
    "\n",
    "    # ─── Allowed Quark PDG IDs (u, d, s, c and their antiparticles) ───────────\n",
    "    pdg_ids_quarks = {1, 2, 3, 4, -1, -2, -3, -4}\n",
    "\n",
    "    truth_partons = []  # Will store selected quark partons\n",
    "    gluons = []         # Will store gluons (status -51/-52)\n",
    "\n",
    "    # ─── Loop Through All Particles in the Event ──────────────────────────────\n",
    "    for i in range(pythia.event.size()):\n",
    "        particle = pythia.event[i]\n",
    "\n",
    "        # Extract relevant kinematic info\n",
    "        parton_info = {\n",
    "            \"id\": particle.id(),\n",
    "            \"pt\": particle.pT(),\n",
    "            \"eta\": particle.eta(),\n",
    "            \"phi\": particle.phi(),\n",
    "            \"e\": particle.e(),\n",
    "        }\n",
    "\n",
    "        # Select quarks with status -23 (incoming to hard scattering)\n",
    "        if particle.status() == -23 and particle.id() in pdg_ids_quarks:\n",
    "            truth_partons.append(parton_info)\n",
    "\n",
    "        # Select gluons with specific status codes (-51, -52)\n",
    "        elif particle.status() in (-51, -52) and particle.id() == 21:\n",
    "            gluons.append(parton_info)\n",
    "\n",
    "    # ─── Optionally Add Highest-pT Gluons ─────────────────────────────────────\n",
    "    if gluons:\n",
    "        gluons_sorted = sorted(gluons, key=lambda x: x[\"pt\"], reverse=True)\n",
    "        top_gluons = gluons_sorted[:top_k]\n",
    "        truth_partons.extend(top_gluons)\n",
    "\n",
    "    # ─── Optional Warning if No Partons Found ─────────────────────────────────\n",
    "    if not truth_partons:\n",
    "        warning_msg = \"Warning: No truth-level partons found in this event!\"\n",
    "        print(warning_msg)\n",
    "\n",
    "    return truth_partons"
   ]
  },
  {
   "cell_type": "code",
   "execution_count": 3,
   "id": "f9423358-dd4d-4543-a542-745f972e821a",
   "metadata": {},
   "outputs": [],
   "source": [
    "def cluster_jets(event, r, min_jet_pT, eta_max, verbose=False):\n",
    "    \"\"\"\n",
    "    Cluster final-state particles into jets using the anti-kT algorithm.\n",
    "\n",
    "    Args:\n",
    "        event (dict): Dictionary with key 'final_particles', containing 4-momenta and PDG ID.\n",
    "        r (float): Jet radius parameter for anti-kT clustering.\n",
    "        min_jet_pT (float): Minimum pT threshold for a jet.\n",
    "        eta_max (float): Maximum |η| allowed for jets.\n",
    "        verbose (bool): If True, print diagnostics.\n",
    "\n",
    "    Returns:\n",
    "        tuple: (list of jets with constituent info, FastJet ClusterSequence object)\n",
    "    \"\"\"\n",
    "\n",
    "    # ─── Check if Event Has Valid Final-State Particles ───────────────────────\n",
    "    if \"final_particles\" not in event or not event[\"final_particles\"]:\n",
    "        raise ValueError(\"Event does not contain valid final state particles.\")\n",
    "\n",
    "    # ─── Map of PDG IDs to Electric Charge ────────────────────────────────────\n",
    "    pdg_charge_map = {\n",
    "        211: +1, -211: -1,      # Charged pions\n",
    "        321: +1, -321: -1,      # Charged kaons\n",
    "        2212: +1, -2212: -1,    # Protons and anti-protons\n",
    "        11: -1, -11: +1,        # Electrons and positrons\n",
    "        13: -1, -13: +1,        # Muons and anti-muons\n",
    "        15: -1, -15: +1         # Tau leptons and antileptons\n",
    "    }\n",
    "\n",
    "    # ─── Convert Final-State Particles to FastJet PseudoJets ──────────────────\n",
    "    pseudojets = []\n",
    "    for px, py, pz, e, pid in event[\"final_particles\"]:\n",
    "        pj = fj.PseudoJet(px, py, pz, e)    # Create pseudoparticle\n",
    "        pj.set_user_index(pid)              # Store PDG ID\n",
    "        pseudojets.append(pj)\n",
    "\n",
    "    if not pseudojets:\n",
    "        if verbose:\n",
    "            print(\"No valid pseudojets created.\")\n",
    "        return [], None\n",
    "\n",
    "    # ─── Define Anti-kT Jet Clustering Algorithm ──────────────────────────────\n",
    "    jet_def = fj.JetDefinition(fj.antikt_algorithm, r, fj.pt_scheme)\n",
    "    cluster_sequence = fj.ClusterSequence(pseudojets, jet_def)\n",
    "\n",
    "    # ─── Get All Inclusive Jets Above pT Threshold ────────────────────────────\n",
    "    jets = cluster_sequence.inclusive_jets(ptmin=min_jet_pT)\n",
    "\n",
    "    # ─── Apply η Cut ──────────────────────────────────────────────────────────\n",
    "    jets_with_cuts = [jet for jet in jets if abs(jet.eta()) < eta_max]\n",
    "\n",
    "    if verbose:\n",
    "        print(f\"Total jets before eta cut: {len(jets)}\")\n",
    "        print(f\"Jets passing eta cut: {len(jets_with_cuts)}\")\n",
    "\n",
    "    # ─── Collect Jet and Constituent Information ──────────────────────────────\n",
    "    jets_with_constituents = []\n",
    "    for jet in jets_with_cuts:\n",
    "        constituents = jet.constituents()\n",
    "\n",
    "        # Skip jets with fewer than 3 constituents\n",
    "        if len(constituents) < 3:\n",
    "            if verbose:\n",
    "                print(f\"Skipping jet with {len(constituents)} constituents (less than 3).\")\n",
    "            continue\n",
    "\n",
    "        constituent_list = []\n",
    "        for p in constituents:\n",
    "            pid = p.user_index()\n",
    "            charge = pdg_charge_map.get(pid, 0)  # Default to 0 if unknown\n",
    "\n",
    "            constituent_list.append({\n",
    "                \"e\": p.e(),\n",
    "                \"pt\": p.pt(),\n",
    "                \"eta\": p.eta(),\n",
    "                \"phi\": p.phi(),\n",
    "                \"pdg_id\": pid,\n",
    "                \"charge\": charge\n",
    "            })\n",
    "\n",
    "        jets_with_constituents.append({\n",
    "            \"eta\": jet.eta(),\n",
    "            \"phi\": jet.phi(),\n",
    "            \"pt\": jet.pt(),\n",
    "            \"mass\": jet.m(),\n",
    "            \"multiplicity\": len(constituents),\n",
    "            \"charge_multiplicity\": sum(1 for c in constituent_list if c[\"charge\"] != 0),\n",
    "            \"constituents\": constituent_list\n",
    "        })\n",
    "\n",
    "    # ─── Print Warning if No Jet Passes the Multiplicity Cut ──────────────────\n",
    "    if not jets_with_constituents and verbose:\n",
    "        print(\"No jets passed the constituent multiplicity cut.\")\n",
    "\n",
    "    return jets_with_constituents, cluster_sequence"
   ]
  },
  {
   "cell_type": "code",
   "execution_count": 4,
   "id": "11675ac3-b1a5-4b3d-a57c-289735d2b7c9",
   "metadata": {},
   "outputs": [],
   "source": [
    "def match_and_tag_jets_with_kdtree(jets, target_partons, r_threshold, verbose=False):\n",
    "    \"\"\"\n",
    "    Match jets to partons using KDTree in (η, φ) space and tag them as quark, antiquark, or gluon.\n",
    "\n",
    "    Args:\n",
    "        jets (list): List of clustered jets with η, φ, pt, etc.\n",
    "        target_partons (list): List of truth-level partons with η, φ, and PDG ID.\n",
    "        r_threshold (float): Matching radius threshold in (η, φ) space.\n",
    "        verbose (bool): Print matching summary if True.\n",
    "\n",
    "    Returns:\n",
    "        list: Jets with added 'tag' and 'match_distance' keys.\n",
    "    \"\"\"\n",
    "\n",
    "    # ─── Handle Empty Inputs ──────────────────────────────────────────────────\n",
    "    if not jets or not target_partons:\n",
    "        if verbose:\n",
    "            msg = \"No jets provided.\" if not jets else \"No target partons provided.\"\n",
    "            print(f\"{msg}\")\n",
    "        # Return all jets as unmatched\n",
    "        return [{\n",
    "            \"tag\": \"unmatched\",\n",
    "            \"pt\": jet[\"pt\"],\n",
    "            \"eta\": jet[\"eta\"],\n",
    "            \"phi\": jet[\"phi\"],\n",
    "            \"mass\": jet[\"mass\"],\n",
    "            \"multiplicity\": jet[\"multiplicity\"],\n",
    "            \"constituents\": jet[\"constituents\"],\n",
    "            \"charge_multiplicity\": jet[\"charge_multiplicity\"]\n",
    "        } for jet in jets]\n",
    "\n",
    "    # ─── Quark PDG IDs (used to classify quark/antiquark jets) ────────────────\n",
    "    quark_ids = {1, 2, 3, 4}\n",
    "\n",
    "    # ─── Prepare Coordinates and KDTree for Matching ──────────────────────────\n",
    "    jets_sorted = sorted(jets, key=lambda x: x[\"pt\"], reverse=True)  # Highest pT first\n",
    "    parton_coords = np.array([[p[\"eta\"], p[\"phi\"]] for p in target_partons])\n",
    "\n",
    "    # Wrap φ to handle angular periodicity\n",
    "    wrapped_coords = np.vstack([\n",
    "        parton_coords,\n",
    "        np.array([parton_coords[:, 0], parton_coords[:, 1] + 2 * np.pi]).T,\n",
    "        np.array([parton_coords[:, 0], parton_coords[:, 1] - 2 * np.pi]).T,\n",
    "    ])\n",
    "    kdtree = KDTree(wrapped_coords)\n",
    "\n",
    "    used_jets = set()       # Track used jet indices\n",
    "    used_partons = set()    # Track matched parton indices\n",
    "    matched_jets = []       # Output list with tags and distances\n",
    "\n",
    "    # ─── Helper: Create Jet Entry with Matching Info ──────────────────────────\n",
    "    def create_jet_entry(jet, tag, distance=None):\n",
    "        return {\n",
    "            \"tag\": tag,\n",
    "            \"pt\": jet[\"pt\"],\n",
    "            \"eta\": jet[\"eta\"],\n",
    "            \"phi\": jet[\"phi\"],\n",
    "            \"mass\": jet[\"mass\"],\n",
    "            \"multiplicity\": jet[\"multiplicity\"],\n",
    "            \"constituents\": jet[\"constituents\"],\n",
    "            \"charge_multiplicity\": jet[\"charge_multiplicity\"],\n",
    "            \"match_distance\": distance\n",
    "        }\n",
    "\n",
    "    # ─── Match Leading Two Jets to Quarks Only ────────────────────────────────\n",
    "    for jet_idx, jet in enumerate(jets_sorted[:2]):\n",
    "        jet_coords = np.array([jet[\"eta\"], jet[\"phi\"]])\n",
    "        distance, idx = kdtree.query(jet_coords)\n",
    "        actual_idx = idx % len(parton_coords)\n",
    "        matched_parton = target_partons[actual_idx]\n",
    "\n",
    "        if distance < r_threshold and actual_idx not in used_partons:\n",
    "            pid = matched_parton[\"id\"]\n",
    "            if abs(pid) in quark_ids:\n",
    "                tag = \"quark\" if pid > 0 else \"antiquark\"\n",
    "                used_partons.add(actual_idx)\n",
    "                used_jets.add(jet_idx)\n",
    "            else:\n",
    "                tag = \"unmatched\"\n",
    "        else:\n",
    "            tag = \"unmatched\"\n",
    "\n",
    "        matched_jets.append(create_jet_entry(jet, tag, distance))\n",
    "\n",
    "    # ─── Match Remaining Jets to Gluons ───────────────────────────────────────\n",
    "    for jet_idx, jet in enumerate(jets_sorted[2:], start=2):\n",
    "        if jet_idx in used_jets:\n",
    "            continue\n",
    "\n",
    "        jet_coords = np.array([jet[\"eta\"], jet[\"phi\"]])\n",
    "        distance, idx = kdtree.query(jet_coords)\n",
    "        actual_idx = idx % len(parton_coords)\n",
    "        matched_parton = target_partons[actual_idx]\n",
    "\n",
    "        if distance < r_threshold and actual_idx not in used_partons:\n",
    "            if matched_parton[\"id\"] == 21:\n",
    "                tag = \"gluon\"\n",
    "                used_partons.add(actual_idx)\n",
    "            else:\n",
    "                tag = \"unmatched\"\n",
    "        else:\n",
    "            tag = \"unmatched\"\n",
    "\n",
    "        matched_jets.append(create_jet_entry(jet, tag, distance))\n",
    "\n",
    "    # ─── Optional: Print Summary of Matching Results ──────────────────────────\n",
    "    if verbose:\n",
    "        total_matched = len([j for j in matched_jets if j[\"tag\"] != \"unmatched\"])\n",
    "        total_unmatched = len(jets_sorted) - total_matched\n",
    "        print(f\"Jet Matching Summary:\")\n",
    "        print(f\"Total jets:     {len(jets_sorted)}\")\n",
    "        print(f\"Total partons:  {len(target_partons)}\")\n",
    "        print(f\"Matched jets:   {total_matched} ({100 * total_matched / len(jets_sorted):.1f}%)\")\n",
    "        print(f\"Unmatched jets: {total_unmatched}\")\n",
    "\n",
    "    return matched_jets"
   ]
  },
  {
   "cell_type": "code",
   "execution_count": 5,
   "id": "800839ca-955f-4305-9638-589844850679",
   "metadata": {},
   "outputs": [
    {
     "name": "stdout",
     "output_type": "stream",
     "text": [
      "\n",
      " *------------------------------------------------------------------------------------* \n",
      " |                                                                                    | \n",
      " |  *------------------------------------------------------------------------------*  | \n",
      " |  |                                                                              |  | \n",
      " |  |                                                                              |  | \n",
      " |  |   PPP   Y   Y  TTTTT  H   H  III    A      Welcome to the Lund Monte Carlo!  |  | \n",
      " |  |   P  P   Y Y     T    H   H   I    A A     This is PYTHIA version 8.312      |  | \n",
      " |  |   PPP     Y      T    HHHHH   I   AAAAA    Last date of change: 23 May 2024  |  | \n",
      " |  |   P       Y      T    H   H   I   A   A                                      |  | \n",
      " |  |   P       Y      T    H   H  III  A   A    Now is 22 Apr 2025 at 12:07:37    |  | \n",
      " |  |                                                                              |  | \n",
      " |  |   Program documentation and an archive of historic versions is found on:     |  | \n",
      " |  |                                                                              |  | \n",
      " |  |                               https://pythia.org/                            |  | \n",
      " |  |                                                                              |  | \n",
      " |  |   PYTHIA is authored by a collaboration consisting of:                       |  | \n",
      " |  |                                                                              |  | \n",
      " |  |   Javira Altmann, Christian Bierlich, Naomi Cooke, Nishita Desai,            |  | \n",
      " |  |   Leif Gellersen, Ilkka Helenius, Philip Ilten, Leif Lonnblad,               |  | \n",
      " |  |   Stephen Mrenna, Christian Preuss, Torbjorn Sjostrand, Peter Skands,        |  | \n",
      " |  |   Marius Utheim, and Rob Verheyen.                                           |  | \n",
      " |  |                                                                              |  | \n",
      " |  |   The complete list of authors, including contact information and            |  | \n",
      " |  |   affiliations, can be found on https://pythia.org/.                         |  | \n",
      " |  |   Problems or bugs should be reported on email at authors@pythia.org.        |  | \n",
      " |  |                                                                              |  | \n",
      " |  |   The main program reference is C. Bierlich et al,                           |  | \n",
      " |  |   'A comprehensive guide to the physics and usage of Pythia 8.3',            |  | \n",
      " |  |   SciPost Phys. Codebases 8-r8.3 (2022) [arXiv:2203.11601 [hep-ph]]          |  | \n",
      " |  |                                                                              |  | \n",
      " |  |   PYTHIA is released under the GNU General Public Licence version 2 or later.|  | \n",
      " |  |   Please respect the MCnet Guidelines for Event Generator Authors and Users. |  | \n",
      " |  |                                                                              |  | \n",
      " |  |   Disclaimer: this program comes without any guarantees.                     |  | \n",
      " |  |   Beware of errors and use common sense when interpreting results.           |  | \n",
      " |  |                                                                              |  | \n",
      " |  |   Copyright (C) 2024 Torbjorn Sjostrand                                      |  | \n",
      " |  |                                                                              |  | \n",
      " |  |                                                                              |  | \n",
      " |  *------------------------------------------------------------------------------*  | \n",
      " |                                                                                    | \n",
      " *------------------------------------------------------------------------------------* \n",
      "\n",
      " *-----------------------  SusyLesHouches SUSY/BSM Interface  ------------------------*\n",
      " | Last Change 12 Apr 2017 - P. Skands\n",
      " | Parsing: /home/soumodip/Python/MSc_Project/Finalized_Project/Training_data_75k_100GeV/LHE_Files/e+e-jj_75k_100GeV.lhe\n",
      " | (SLHA::readFile) line 361 - storing non-SLHA(2) block: yukawa\n",
      " *------------------------------------------------------------------------------------*\n",
      " PYTHIA Info from SLHAinterface::initSLHA: No MODSEL found, keeping internal SUSY switched off\n",
      " PYTHIA Warning in SLHAinterface::initSLHA: ignoring MASS entries for id = {1,2,3,4,5,11,12,13,14,15,16,21,22,23,24} (m0 < SLHA:minMassSM)\n",
      " PYTHIA Warning in SLHAinterface::initSLHA: ignoring DECAY tables for id = {23,24,1,2,3,4,5,11,12,13,14,15,16,21,22} (m0 < SLHA:minMassSM)\n",
      " PYTHIA Warning in SLHAinterface::initSLHA: ignoring empty DECAY tables for id = {6,25} (total width provided but no Branching Ratios)\n",
      "\n",
      " *-------  PYTHIA Process Initialization  --------------------------*\n",
      " |                                                                  |\n",
      " | We collide e+ with e- at a CM energy of 1.000e+02 GeV            |\n",
      " |                                                                  |\n",
      " |------------------------------------------------------------------|\n",
      " |                                                    |             |\n",
      " | Subprocess                                    Code |   Estimated |\n",
      " |                                                    |    max (mb) |\n",
      " |                                                    |             |\n",
      " |------------------------------------------------------------------|\n",
      " |                                                    |             |\n",
      " | g g -> g g                                     111 |   0.000e+00 |\n",
      " | g g -> q qbar (uds)                            112 |   0.000e+00 |\n",
      " | q g -> q g                                     113 |   0.000e+00 |\n",
      " | q q(bar)' -> q q(bar)'                         114 |   0.000e+00 |\n",
      " | q qbar -> g g                                  115 |   0.000e+00 |\n",
      " | q qbar -> q' qbar' (uds)                       116 |   0.000e+00 |\n",
      " | g g -> c cbar                                  121 |   0.000e+00 |\n",
      " | q qbar -> c cbar                               122 |   0.000e+00 |\n",
      " | g g -> b bbar                                  123 |   0.000e+00 |\n",
      " | q qbar -> b bbar                               124 |   0.000e+00 |\n",
      " | Les Houches User Process(es)                  9999 |   1.000e-09 |\n",
      " |                                                                  |\n",
      " *-------  End PYTHIA Process Initialization -----------------------*\n",
      "\n",
      " *-------  PYTHIA Flag + Mode + Parm + Word + FVec + MVec + PVec + WVec Settings (changes only)  ------------------* \n",
      " |                                                                                                                 | \n",
      " | Name                                          |                      Now |      Default         Min         Max | \n",
      " |                                               |                          |                                      | \n",
      " | Beams:frameType                               |                        4 |            1           1           5 | \n",
      " | Beams:LHEF                                    | /home/soumodip/Python/MSc_Project/Finalized_Project/Training_data_75k_100GeV/LHE_Files/e+e-jj_75k_100GeV.lhe |         void | \n",
      " | HardQCD:all                                   |                       on |          off                         | \n",
      " |                                                                                                                 | \n",
      " *-------  End PYTHIA Flag + Mode + Parm + Word + FVec + MVec + PVec + WVec Settings  -----------------------------* \n",
      "\n",
      " --------  PYTHIA Particle Data Table (changed only)  ------------------------------------------------------------------------------\n",
      " \n",
      "      id   name            antiName         spn chg col      m0        mWidth      mMin       mMax       tau0    res dec ext vis wid\n",
      "             no onMode   bRatio   meMode     products \n",
      "\n",
      "       6  t                tbar               2   2   1  173.00000    1.35678  165.54250  180.45750  1.45438e-13   1   1   0   1   0\n",
      "              0     1   0.0000664    0       24        1 \n",
      "              1     1   0.0017361    0       24        3 \n",
      "              2     1   0.9981975    0       24        5 \n",
      "              3     0   0.0000000    0       37        5 \n",
      "\n",
      "      25  h0                                  1   0   0  125.00000    0.00408  124.96809  125.03191  4.83238e-11   1   1   0   0   0\n",
      "              0     1   0.0000009    0        1       -1 \n",
      "              1     1   0.0000002    0        2       -2 \n",
      "              2     1   0.0002163    0        3       -3 \n",
      "              3     1   0.0288493    0        4       -4 \n",
      "              4     1   0.5768873    0        5       -5 \n",
      "              5     1   0.0000000    0        6       -6 \n",
      "              6     1   0.0000000    0       11      -11 \n",
      "              7     1   0.0002185    0       13      -13 \n",
      "              8     1   0.0628569    0       15      -15 \n",
      "              9     1   0.0850383    0       21       21 \n",
      "             10     1   0.0022965    0       22       22 \n",
      "             11     1   0.0016155    0       22       23 \n",
      "             12     1   0.0261758    0       23       23 \n",
      "             13     1   0.2158445    0       24      -24 \n",
      "             14     1   0.0000000  103  1000022  1000022 \n",
      "             15     1   0.0000000  103  1000023  1000022 \n",
      "             16     1   0.0000000  103  1000023  1000023 \n",
      "             17     1   0.0000000  103  1000025  1000022 \n",
      "             18     1   0.0000000  103  1000025  1000023 \n",
      "             19     1   0.0000000  103  1000025  1000025 \n",
      "             20     1   0.0000000  103  1000035  1000022 \n",
      "             21     1   0.0000000  103  1000035  1000023 \n",
      "             22     1   0.0000000  103  1000035  1000025 \n",
      "             23     1   0.0000000  103  1000035  1000035 \n",
      "             24     1   0.0000000  103  1000024 -1000024 \n",
      "             25     1   0.0000000  103  1000024 -1000037 \n",
      "             26     1   0.0000000  103  1000037 -1000024 \n",
      "             27     1   0.0000000  103  1000037 -1000037 \n",
      "             28     1   0.0000000  103  1000001 -1000001 \n",
      "             29     1   0.0000000  103  2000001 -2000001 \n",
      "             30     1   0.0000000  103  1000001 -2000001 \n",
      "             31     1   0.0000000  103 -1000001  2000001 \n",
      "             32     1   0.0000000  103  1000002 -1000002 \n",
      "             33     1   0.0000000  103  2000002 -2000002 \n",
      "             34     1   0.0000000  103  1000002 -2000002 \n",
      "             35     1   0.0000000  103 -1000002  2000002 \n",
      "             36     1   0.0000000  103  1000003 -1000003 \n",
      "             37     1   0.0000000  103  2000003 -2000003 \n",
      "             38     1   0.0000000  103  1000003 -2000003 \n",
      "             39     1   0.0000000  103 -1000003  2000003 \n",
      "             40     1   0.0000000  103  1000004 -1000004 \n",
      "             41     1   0.0000000  103  2000004 -2000004 \n",
      "             42     1   0.0000000  103  1000004 -2000004 \n",
      "             43     1   0.0000000  103 -1000004  2000004 \n",
      "             44     1   0.0000000  103  1000005 -1000005 \n",
      "             45     1   0.0000000  103  2000005 -2000005 \n",
      "             46     1   0.0000000  103  1000005 -2000005 \n",
      "             47     1   0.0000000  103 -1000005  2000005 \n",
      "             48     1   0.0000000  103  1000006 -1000006 \n",
      "             49     1   0.0000000  103  2000006 -2000006 \n",
      "             50     1   0.0000000  103  1000006 -2000006 \n",
      "             51     1   0.0000000  103 -1000006  2000006 \n",
      "             52     1   0.0000000  103  1000011 -1000011 \n",
      "             53     1   0.0000000  103  2000011 -2000011 \n",
      "             54     1   0.0000000  103  1000011 -2000011 \n",
      "             55     1   0.0000000  103 -1000011  2000011 \n",
      "             56     1   0.0000000  103  1000012 -1000012 \n",
      "             57     1   0.0000000  103  2000012 -2000012 \n",
      "             58     1   0.0000000  103  1000012 -2000012 \n",
      "             59     1   0.0000000  103 -1000012  2000012 \n",
      "             60     1   0.0000000  103  1000013 -1000013 \n",
      "             61     1   0.0000000  103  2000013 -2000013 \n",
      "             62     1   0.0000000  103  1000013 -2000013 \n",
      "             63     1   0.0000000  103 -1000013  2000013 \n",
      "             64     1   0.0000000  103  1000014 -1000014 \n",
      "             65     1   0.0000000  103  2000014 -2000014 \n",
      "             66     1   0.0000000  103  1000014 -2000014 \n",
      "             67     1   0.0000000  103 -1000014  2000014 \n",
      "             68     1   0.0000000  103  1000015 -1000015 \n",
      "             69     1   0.0000000  103  2000015 -2000015 \n",
      "             70     1   0.0000000  103  1000015 -2000015 \n",
      "             71     1   0.0000000  103 -1000015  2000015 \n",
      "             72     1   0.0000000  103  1000016 -1000016 \n",
      "             73     1   0.0000000  103  2000016 -2000016 \n",
      "             74     1   0.0000000  103  1000016 -2000016 \n",
      "             75     1   0.0000000  103 -1000016  2000016 \n",
      "\n",
      " --------  End PYTHIA Particle Data Table  -----------------------------------------------------------------------------------------\n",
      "\n"
     ]
    },
    {
     "name": "stderr",
     "output_type": "stream",
     "text": [
      "Processing Events:   0%|                 | 62/75000 [00:00<02:02, 613.76event/s]"
     ]
    },
    {
     "name": "stdout",
     "output_type": "stream",
     "text": [
      "\n",
      " --------  LHA initialization information  ------------ \n",
      "\n",
      "  beam    kind      energy  pdfgrp  pdfset \n",
      "     A     -11      50.000       0       0\n",
      "     B      11      50.000       0       0\n",
      "\n",
      "  Event weighting strategy = -4\n",
      "\n",
      "  Processes, with strategy-dependent cross section info \n",
      "  number      xsec (pb)      xerr (pb)      xmax (pb) \n",
      "       1     7.2363e+02     1.7314e-01     7.2363e+02\n",
      "\n",
      " --------  End LHA initialization information  -------- \n",
      "\n",
      " --------  LHA event information and listing  ---------------------------------------------------------------------- \n",
      "\n",
      "    process =        1    weight =   7.2363e+02     scale =   1.0000e+02 (GeV) \n",
      "                        alpha_em =   7.5468e-03    alpha_strong =   1.1638e-01\n",
      "\n",
      "    Participating Particles \n",
      "    no        id stat     mothers     colours      p_x        p_y        p_z         e          m        tau    spin \n",
      "     1       -11   -1     0     0     0     0      0.000      0.000     50.000     50.000      0.000   0.000   1.000\n",
      "     2        11   -1     0     0     0     0     -0.000     -0.000    -50.000     50.000      0.000   0.000  -1.000\n",
      "     3        23    2     1     2     0     0      0.000      0.000      0.000    100.000    100.000   0.000   0.000\n",
      "     4         1    1     3     3   501     0     20.231    -25.868    -37.704     50.000      0.000   0.000  -1.000\n",
      "     5        -1    1     3     3     0   501    -20.231     25.868     37.704     50.000      0.000   0.000   1.000\n",
      "\n",
      " --------  End LHA event information and listing  ------------------------------------------------------------------ \n",
      "\n",
      " --------  PYTHIA Info Listing  ---------------------------------------- \n",
      " \n",
      " Beam A: id =    -11, pz =  5.000e+01, e =  5.000e+01, m =  5.110e-04.\n",
      " Beam B: id =     11, pz = -5.000e+01, e =  5.000e+01, m =  5.110e-04.\n",
      "\n",
      " In 1: id =  -11, x =  1.000e+00, pdf =  0.000e+00 at Q2 =  1.000e+04.\n",
      " In 2: id =   11, x =  1.000e+00, pdf =  0.000e+00 at same Q2.\n",
      "\n",
      " Process Les Houches User Process(es) with code 9999 is 2 -> 1.\n",
      " Subprocess user process 1 with code 1 is 2 -> 1.\n",
      " It has sHat =  1.000e+04.\n",
      "     alphaEM =  7.547e-03,  alphaS =  1.164e-01    at Q2 =  1.000e+04.\n",
      "\n",
      " Impact parameter b =  0.000e+00 gives enhancement factor =  1.000e+00.\n",
      " Max pT scale for MPI =  1.000e+02, ISR =  1.000e+02, FSR =  1.000e+02.\n",
      " Number of MPI =     1, ISR =     0, FSRproc =     0, FSRreson =    12.\n",
      "\n",
      " --------  End PYTHIA Info Listing  ------------------------------------\n",
      "\n",
      " --------  PYTHIA Event Listing  (hard process)  -----------------------------------------------------------------------------------\n",
      " \n",
      "    no         id  name            status     mothers   daughters     colours      p_x        p_y        p_z         e          m \n",
      "     0         90  (system)           -11     0     0     0     0     0     0      0.000      0.000      0.000    100.000    100.000\n",
      "     1        -11  (e+)               -12     0     0     3     0     0     0      0.000      0.000     50.000     50.000      0.001\n",
      "     2         11  (e-)               -12     0     0     4     0     0     0      0.000      0.000    -50.000     50.000      0.001\n",
      "     3        -11  (e+)               -21     1     0     5     0     0     0      0.000      0.000     50.000     50.000      0.000\n",
      "     4         11  (e-)               -21     2     0     5     0     0     0      0.000      0.000    -50.000     50.000      0.000\n",
      "     5         23  (Z0)               -22     3     4     6     7     0     0      0.000      0.000      0.000    100.000    100.000\n",
      "     6          1  d                   23     5     0     0     0   501     0     20.231    -25.868    -37.704     50.000      0.000\n",
      "     7         -1  dbar                23     5     0     0     0     0   501    -20.231     25.868     37.704     50.000      0.000\n",
      "                                   Charge sum:  0.000           Momentum sum:      0.000      0.000      0.000    100.000    100.000\n",
      "\n",
      " --------  End PYTHIA Event Listing  -----------------------------------------------------------------------------------------------\n",
      "\n",
      " --------  PYTHIA Event Listing  (complete event)  ---------------------------------------------------------------------------------\n",
      " \n",
      "    no         id  name            status     mothers   daughters     colours      p_x        p_y        p_z         e          m \n",
      "     0         90  (system)           -11     0     0     0     0     0     0      0.000      0.000      0.000    100.000    100.000\n",
      "     1        -11  (e+)               -12     0     0     3     0     0     0      0.000      0.000     50.000     50.000      0.001\n",
      "     2         11  (e-)               -12     0     0     4     0     0     0      0.000      0.000    -50.000     50.000      0.001\n",
      "     3        -11  (e+)               -21     1     0     5     0     0     0      0.000      0.000     50.000     50.000      0.000\n",
      "     4         11  (e-)               -21     2     0     5     0     0     0      0.000      0.000    -50.000     50.000      0.000\n",
      "     5         23  (Z0)               -22     3     4     6     7     0     0      0.000      0.000      0.000    100.000    100.000\n",
      "     6          1  (d)                -23     5     0    10    10   501     0     20.231    -25.868    -37.704     50.000      0.000\n",
      "     7         -1  (dbar)             -23     5     0     8     9     0   501    -20.231     25.868     37.704     50.000      0.000\n",
      "     8         -1  (dbar)             -51     7     0    11    12     0   502      8.524      2.681      2.387      9.248      0.000\n",
      "     9         21  (g)                -51     7     0    13    13   502   501    -26.640     20.484     31.377     45.976      0.000\n",
      "    10          1  (d)                -52     6     6    14    15   501     0     18.117    -23.165    -33.764     44.775      0.000\n",
      "    11         -1  (dbar)             -51     8     0    23    24     0   504      8.566      3.445      2.762      9.637      0.000\n",
      "    12         21  (g)                -51     8     0    17    18   504   502     -0.955     -0.063      0.700      1.186      0.000\n",
      "    13         21  (g)                -52     9     9    16    16   502   501    -25.727     19.782     30.302     44.401      0.000\n",
      "    14          1  (d)                -51    10     0    34    34   505     0     17.805    -22.150    -30.851     41.946      0.000\n",
      "    15         21  (g)                -51    10     0    22    22   501   505      0.226     -0.949     -2.812      2.977      0.000\n",
      "    16         21  (g)                -52    13    13    19    19   502   501    -25.642     19.717     30.202     44.254      0.000\n",
      "    17         21  (g)                -51    12     0    25    25   504   506     -1.481      0.797      2.793      3.261      0.000\n",
      "    18         21  (g)                -51    12     0    31    31   506   502     -7.064      4.975      6.845     11.023      0.000\n",
      "    19         21  (g)                -52    16    16    20    21   502   501    -18.053     13.881     21.263     31.157      0.000\n",
      "    20         21  (g)                -51    19     0    51    51   502   507    -16.188     11.675     19.366     27.810      0.000\n",
      "    21         21  (g)                -51    19     0    28    28   507   501     -1.860      2.186      1.839      3.409      0.000\n",
      "    22         21  (g)                -52    15    15    26    27   501   505      0.221     -0.929     -2.753      2.914      0.000\n",
      "    23         -1  (dbar)             -51    11     0    35    36     0   508      2.710      1.995      1.306      3.610      0.000\n",
      "    24         21  (g)                -51    11     0    37    37   508   504      5.786      1.488      1.588      6.182      0.000\n",
      "    25         21  (g)                -52    17    17    29    30   504   506     -1.411      0.760      2.661      3.107      0.000\n",
      "    26         21  (g)                -51    22     0    32    33   509   505      0.062     -1.324     -2.273      2.631      0.000\n",
      "    27         21  (g)                -51    22     0    49    49   501   509     -0.081      0.677     -0.243      0.724      0.000\n",
      "    28         21  (g)                -52    21    21    50    50   507   501     -1.620      1.904      1.601      2.969      0.000\n",
      "    29         21  (g)                -51    25     0    54    54   504   510     -4.262      2.583      5.445      7.381      0.000\n",
      "    30         21  (g)                -51    25     0    53    53   510   506     -0.013      0.193     -0.009      0.194      0.000\n",
      "    31         21  (g)                -52    18    18    52    52   506   502     -4.200      2.958      4.070      6.555      0.000\n",
      "    32         21  (g)                -51    26     0    48    48   509   511      1.390     -1.090     -1.924      2.612      0.000\n",
      "    33         21  (g)                -51    26     0    40    40   511   505      0.701     -2.759     -3.866      4.801      0.000\n",
      "    34          1  (d)                -52    14    14    38    39   505     0     15.775    -19.625    -27.334     37.164      0.000\n",
      "    35         -1  (dbar)             -51    23     0    57    57     0   512      0.895      0.591      0.858      1.373      0.000\n",
      "    36         21  (g)                -51    23     0    56    56   512   508      4.397      2.068      1.156      4.995      0.000\n",
      "    37         21  (g)                -52    24    24    55    55   508   504      3.204      0.824      0.879      3.424      0.000\n",
      "    38          1  (d)                -51    34     0    43    43   513     0     11.155    -14.129    -18.769     26.007      0.000\n",
      "    39         21  (g)                -51    34     0    41    42   505   513      4.693     -5.783     -8.968     11.657      0.000\n",
      "    40         21  (g)                -52    33    33    47    47   511   505      0.628     -2.471     -3.463      4.301      0.000\n",
      "    41         21  (g)                -51    39     0    46    46   505   514      4.558     -5.135     -8.084     10.606      0.000\n",
      "    42         21  (g)                -51    39     0    44     0   514   513      8.336    -11.035    -14.682     20.170      0.000\n",
      "    43          1  (d)                -52    38    38    44     0   513     0      2.954     -3.742     -4.971      6.888      0.000\n",
      "    44          1  (d)                -73    43    42    45    45   514     0     11.290    -14.777    -19.653     27.058      0.203\n",
      "    45          1  (d)                -71    44    44    58    79   514     0     11.290    -14.777    -19.653     27.058      0.203\n",
      "    46         21  (g)                -71    41    41    58    79   505   514      4.558     -5.135     -8.084     10.606      0.000\n",
      "    47         21  (g)                -71    40    40    58    79   511   505      0.628     -2.471     -3.463      4.301      0.000\n",
      "    48         21  (g)                -71    32    32    58    79   509   511      1.390     -1.090     -1.924      2.612      0.000\n",
      "    49         21  (g)                -71    27    27    58    79   501   509     -0.081      0.677     -0.243      0.724      0.000\n",
      "    50         21  (g)                -71    28    28    58    79   507   501     -1.620      1.904      1.601      2.969      0.000\n",
      "    51         21  (g)                -71    20    20    58    79   502   507    -16.188     11.675     19.366     27.810      0.000\n",
      "    52         21  (g)                -71    31    31    58    79   506   502     -4.200      2.958      4.070      6.555      0.000\n",
      "    53         21  (g)                -71    30    30    58    79   510   506     -0.013      0.193     -0.009      0.194      0.000\n",
      "    54         21  (g)                -71    29    29    58    79   504   510     -4.262      2.583      5.445      7.381      0.000\n",
      "    55         21  (g)                -71    37    37    58    79   508   504      3.204      0.824      0.879      3.424      0.000\n",
      "    56         21  (g)                -71    36    36    58    79   512   508      4.397      2.068      1.156      4.995      0.000\n",
      "    57         -1  (dbar)             -71    35    35    58    79     0   512      0.895      0.591      0.858      1.373      0.000\n",
      "    58       -213  (rho-)             -83    45    57    80    81     0     0     11.203    -14.279    -19.629     26.749      0.916\n",
      "    59        211  pi+                 83    45    57     0     0     0     0      0.914     -1.555     -1.544      2.378      0.140\n",
      "    60       -211  pi-                 83    45    57     0     0     0     0      1.276     -2.078     -3.135      3.974      0.140\n",
      "    61        213  (rho+)             -83    45    57    82    83     0     0      2.435     -2.594     -3.828      5.267      0.660\n",
      "    62        313  (K*0)              -83    45    57    84    85     0     0      0.937     -1.200     -1.922      2.613      0.903\n",
      "    63       -313  (K*bar0)           -83    45    57    86    87     0     0      0.835     -1.123     -2.708      3.180      0.906\n",
      "    64        223  (omega)            -83    45    57   100   102     0     0     -0.064     -0.203     -0.205      0.817      0.762\n",
      "    65        111  (pi0)              -83    45    57   103   104     0     0      0.067      0.574      0.339      0.683      0.135\n",
      "    66        223  (omega)            -83    45    57   105   107     0     0     -0.721      0.650      0.397      1.309      0.783\n",
      "    67       -211  pi-                 83    45    57     0     0     0     0     -1.434      1.355      1.066      2.248      0.140\n",
      "    68        213  (rho+)             -83    45    57    88    89     0     0     -4.256      3.072      5.293      7.501      0.837\n",
      "    69        311  (K0)               -83    45    57    90    90     0     0     -3.366      2.598      3.465      5.508      0.498\n",
      "    70       -323  (K*-)              -83    45    57    91    92     0     0    -11.642      8.232     13.372     19.566      0.827\n",
      "    71        323  (K*+)              -84    45    57    93    94     0     0     -2.703      1.772      3.742      5.025      0.894\n",
      "    72       -321  K-                  84    45    57     0     0     0     0     -0.263      0.475      0.201      0.761      0.494\n",
      "    73        211  pi+                 84    45    57     0     0     0     0     -0.216      0.626      1.791      1.915      0.140\n",
      "    74       -211  pi-                 84    45    57     0     0     0     0      0.005      0.063      0.029      0.156      0.140\n",
      "    75        213  (rho+)             -84    45    57    95    96     0     0     -0.253     -0.256      0.141      0.790      0.689\n",
      "    76       2112  n0                  84    45    57     0     0     0     0      2.084      1.243      0.906      2.755      0.940\n",
      "    77      -2212  pbar-               84    45    57     0     0     0     0      0.815      0.842      0.629      1.627      0.938\n",
      "    78        223  (omega)            -84    45    57   108   110     0     0      2.784      0.597      1.009      3.122      0.789\n",
      "    79        211  pi+                 84    45    57     0     0     0     0      1.564      1.189      0.589      2.056      0.140\n",
      "    80       -211  pi-                 91    58     0     0     0     0     0      2.507     -2.698     -4.204      5.591      0.140\n",
      "    81        111  (pi0)              -91    58     0   111   112     0     0      8.696    -11.580    -15.425     21.158      0.135\n",
      "    82        211  pi+                 91    61     0     0     0     0     0      0.630     -0.558     -0.596      1.041      0.140\n",
      "    83        111  (pi0)              -91    61     0   113   114     0     0      1.805     -2.036     -3.232      4.227      0.135\n",
      "    84        311  (K0)               -91    62     0    97    97     0     0      0.892     -0.679     -1.406      1.866      0.498\n",
      "    85        111  (pi0)              -91    62     0   115   116     0     0      0.045     -0.522     -0.515      0.747      0.135\n",
      "    86       -311  (Kbar0)            -91    63     0    98    98     0     0      0.924     -0.995     -2.494      2.883      0.498\n",
      "    87        111  (pi0)              -91    63     0   117   118     0     0     -0.089     -0.128     -0.214      0.297      0.135\n",
      "    88        211  pi+                 91    68     0     0     0     0     0     -0.819      0.553      1.457      1.767      0.140\n",
      "    89        111  (pi0)              -91    68     0   119   120     0     0     -3.437      2.519      3.835      5.734      0.135\n",
      "    90        130  K_L0                91    69    69     0     0     0     0     -3.366      2.598      3.465      5.508      0.498\n",
      "    91       -321  K-                  91    70     0     0     0     0     0    -10.000      6.841     11.361     16.617      0.494\n",
      "    92        111  (pi0)              -91    70     0   121   122     0     0     -1.642      1.392      2.011      2.949      0.135\n",
      "    93        311  (K0)               -91    71     0    99    99     0     0     -1.695      0.803      2.001      2.788      0.498\n",
      "    94        211  pi+                 91    71     0     0     0     0     0     -1.008      0.969      1.741      2.237      0.140\n",
      "    95        211  pi+                 91    75     0     0     0     0     0      0.001      0.042     -0.204      0.251      0.140\n",
      "    96        111  (pi0)              -91    75     0   123   125     0     0     -0.253     -0.298      0.345      0.539      0.135\n",
      "    97        310  (K_S0)             -91    84    84   126   127     0     0      0.892     -0.679     -1.406      1.866      0.498\n",
      "    98        310  (K_S0)             -91    86    86   128   129     0     0      0.924     -0.995     -2.494      2.883      0.498\n",
      "    99        310  (K_S0)             -91    93    93   130   131     0     0     -1.695      0.803      2.001      2.788      0.498\n",
      "   100        211  pi+                 91    64     0     0     0     0     0      0.118      0.010     -0.294      0.346      0.140\n",
      "   101       -211  pi-                 91    64     0     0     0     0     0     -0.144     -0.007     -0.014      0.201      0.140\n",
      "   102        111  (pi0)              -91    64     0   132   133     0     0     -0.038     -0.206      0.103      0.270      0.135\n",
      "   103         22  gamma               91    65     0     0     0     0     0      0.087      0.197      0.110      0.242      0.000\n",
      "   104         22  gamma               91    65     0     0     0     0     0     -0.020      0.377      0.229      0.441      0.000\n",
      "   105        211  pi+                 91    66     0     0     0     0     0     -0.230     -0.061      0.177      0.328      0.140\n",
      "   106       -211  pi-                 91    66     0     0     0     0     0     -0.265      0.386     -0.037      0.490      0.140\n",
      "   107        111  (pi0)              -91    66     0   134   135     0     0     -0.226      0.325      0.258      0.492      0.135\n",
      "   108        211  pi+                 91    78     0     0     0     0     0      2.038      0.614      0.655      2.231      0.140\n",
      "   109       -211  pi-                 91    78     0     0     0     0     0      0.318     -0.059      0.074      0.360      0.140\n",
      "   110        111  (pi0)              -91    78     0   136   137     0     0      0.427      0.042      0.281      0.531      0.135\n",
      "   111         22  gamma               91    81     0     0     0     0     0      8.428    -11.260    -14.981     20.549      0.000\n",
      "   112         22  gamma               91    81     0     0     0     0     0      0.268     -0.320     -0.444      0.609      0.000\n",
      "   113         22  gamma               91    83     0     0     0     0     0      1.173     -1.329     -2.004      2.675      0.000\n",
      "   114         22  gamma               91    83     0     0     0     0     0      0.632     -0.707     -1.227      1.551      0.000\n",
      "   115         22  gamma               91    85     0     0     0     0     0      0.044     -0.124     -0.200      0.240      0.000\n",
      "   116         22  gamma               91    85     0     0     0     0     0      0.001     -0.398     -0.315      0.507      0.000\n",
      "   117         22  gamma               91    87     0     0     0     0     0      0.031     -0.034     -0.020      0.050      0.000\n",
      "   118         22  gamma               91    87     0     0     0     0     0     -0.120     -0.094     -0.194      0.247      0.000\n",
      "   119         22  gamma               91    89     0     0     0     0     0     -3.066      2.199      3.420      5.092      0.000\n",
      "   120         22  gamma               91    89     0     0     0     0     0     -0.371      0.320      0.416      0.642      0.000\n",
      "   121         22  gamma               91    92     0     0     0     0     0     -0.397      0.410      0.558      0.798      0.000\n",
      "   122         22  gamma               91    92     0     0     0     0     0     -1.246      0.981      1.453      2.151      0.000\n",
      "   123         22  gamma               91    96     0     0     0     0     0     -0.060     -0.009      0.023      0.065      0.000\n",
      "   124         11  e-                  91    96     0     0     0     0     0     -0.094     -0.142      0.163      0.236      0.001\n",
      "   125        -11  e+                  91    96     0     0     0     0     0     -0.099     -0.147      0.159      0.238      0.001\n",
      "   126        211  pi+                 91    97     0     0     0     0     0      0.549     -0.628     -0.882      1.222      0.140\n",
      "   127       -211  pi-                 91    97     0     0     0     0     0      0.344     -0.051     -0.524      0.644      0.140\n",
      "   128        211  pi+                 91    98     0     0     0     0     0      0.764     -0.897     -1.849      2.197      0.140\n",
      "   129       -211  pi-                 91    98     0     0     0     0     0      0.160     -0.098     -0.645      0.686      0.140\n",
      "   130        211  pi+                 91    99     0     0     0     0     0     -1.031      0.686      1.389      1.866      0.140\n",
      "   131       -211  pi-                 91    99     0     0     0     0     0     -0.664      0.117      0.612      0.922      0.140\n",
      "   132         22  gamma               91   102     0     0     0     0     0     -0.024     -0.180      0.022      0.183      0.000\n",
      "   133         22  gamma               91   102     0     0     0     0     0     -0.015     -0.026      0.081      0.087      0.000\n",
      "   134         22  gamma               91   107     0     0     0     0     0     -0.184      0.153      0.172      0.294      0.000\n",
      "   135         22  gamma               91   107     0     0     0     0     0     -0.043      0.173      0.086      0.198      0.000\n",
      "   136         22  gamma               91   110     0     0     0     0     0      0.059     -0.042      0.042      0.084      0.000\n",
      "   137         22  gamma               91   110     0     0     0     0     0      0.368      0.083      0.239      0.447      0.000\n",
      "                                   Charge sum:  0.000           Momentum sum:      0.000     -0.000     -0.000    100.000    100.000\n",
      "\n",
      " --------  End PYTHIA Event Listing  -----------------------------------------------------------------------------------------------\n",
      "#--------------------------------------------------------------------------\n",
      "#                         FastJet release 3.4.3\n",
      "#                 M. Cacciari, G.P. Salam and G. Soyez                  \n",
      "#     A software package for jet finding and analysis at colliders      \n",
      "#                           http://fastjet.fr                           \n",
      "#\t                                                                      \n",
      "# Please cite EPJC72(2012)1896 [arXiv:1111.6097] if you use this package\n",
      "# for scientific work and optionally PLB641(2006)57 [hep-ph/0512210].   \n",
      "#                                                                       \n",
      "# FastJet is provided without warranty under the GNU GPL v2 or higher.  \n",
      "# It uses T. Chan's closest pair algorithm, S. Fortune's Voronoi code,\n",
      "# CGAL and 3rd party plugin jet algorithms. See COPYING file for details.\n",
      "#--------------------------------------------------------------------------\n"
     ]
    },
    {
     "name": "stderr",
     "output_type": "stream",
     "text": [
      "Processing Events:   1%|▏              | 1078/75000 [00:01<01:51, 660.45event/s]"
     ]
    },
    {
     "name": "stdout",
     "output_type": "stream",
     "text": [
      "\n",
      " Pythia::next(): 1000 events have been generated \n"
     ]
    },
    {
     "name": "stderr",
     "output_type": "stream",
     "text": [
      "Processing Events:   3%|▍              | 2114/75000 [00:03<01:56, 627.77event/s]"
     ]
    },
    {
     "name": "stdout",
     "output_type": "stream",
     "text": [
      "\n",
      " Pythia::next(): 2000 events have been generated \n"
     ]
    },
    {
     "name": "stderr",
     "output_type": "stream",
     "text": [
      "Processing Events:   4%|▌              | 3079/75000 [00:04<01:46, 673.27event/s]"
     ]
    },
    {
     "name": "stdout",
     "output_type": "stream",
     "text": [
      "\n",
      " Pythia::next(): 3000 events have been generated \n"
     ]
    },
    {
     "name": "stderr",
     "output_type": "stream",
     "text": [
      "Processing Events:   5%|▊              | 4087/75000 [00:06<01:40, 703.64event/s]"
     ]
    },
    {
     "name": "stdout",
     "output_type": "stream",
     "text": [
      "\n",
      " Pythia::next(): 4000 events have been generated \n"
     ]
    },
    {
     "name": "stderr",
     "output_type": "stream",
     "text": [
      "Processing Events:   7%|█              | 5131/75000 [00:07<01:43, 677.32event/s]"
     ]
    },
    {
     "name": "stdout",
     "output_type": "stream",
     "text": [
      "\n",
      " Pythia::next(): 5000 events have been generated \n"
     ]
    },
    {
     "name": "stderr",
     "output_type": "stream",
     "text": [
      "Processing Events:   8%|█▏             | 6114/75000 [00:09<01:40, 682.52event/s]"
     ]
    },
    {
     "name": "stdout",
     "output_type": "stream",
     "text": [
      "\n",
      " Pythia::next(): 6000 events have been generated \n"
     ]
    },
    {
     "name": "stderr",
     "output_type": "stream",
     "text": [
      "Processing Events:   9%|█▍             | 7081/75000 [00:10<01:45, 645.07event/s]"
     ]
    },
    {
     "name": "stdout",
     "output_type": "stream",
     "text": [
      "\n",
      " Pythia::next(): 7000 events have been generated \n"
     ]
    },
    {
     "name": "stderr",
     "output_type": "stream",
     "text": [
      "Processing Events:  11%|█▌             | 8120/75000 [00:12<01:37, 682.96event/s]"
     ]
    },
    {
     "name": "stdout",
     "output_type": "stream",
     "text": [
      "\n",
      " Pythia::next(): 8000 events have been generated \n"
     ]
    },
    {
     "name": "stderr",
     "output_type": "stream",
     "text": [
      "Processing Events:  12%|█▊             | 9088/75000 [00:13<01:38, 666.40event/s]"
     ]
    },
    {
     "name": "stdout",
     "output_type": "stream",
     "text": [
      "\n",
      " Pythia::next(): 9000 events have been generated \n"
     ]
    },
    {
     "name": "stderr",
     "output_type": "stream",
     "text": [
      "Processing Events:  13%|█▉            | 10079/75000 [00:15<01:33, 693.05event/s]"
     ]
    },
    {
     "name": "stdout",
     "output_type": "stream",
     "text": [
      "\n",
      " Pythia::next(): 10000 events have been generated \n"
     ]
    },
    {
     "name": "stderr",
     "output_type": "stream",
     "text": [
      "Processing Events:  15%|██            | 11118/75000 [00:16<01:32, 687.31event/s]"
     ]
    },
    {
     "name": "stdout",
     "output_type": "stream",
     "text": [
      "\n",
      " Pythia::next(): 11000 events have been generated \n"
     ]
    },
    {
     "name": "stderr",
     "output_type": "stream",
     "text": [
      "Processing Events:  16%|██▎           | 12109/75000 [00:18<01:33, 673.40event/s]"
     ]
    },
    {
     "name": "stdout",
     "output_type": "stream",
     "text": [
      "\n",
      " Pythia::next(): 12000 events have been generated \n"
     ]
    },
    {
     "name": "stderr",
     "output_type": "stream",
     "text": [
      "Processing Events:  17%|██▍           | 13088/75000 [00:19<01:32, 667.03event/s]"
     ]
    },
    {
     "name": "stdout",
     "output_type": "stream",
     "text": [
      "\n",
      " Pythia::next(): 13000 events have been generated \n"
     ]
    },
    {
     "name": "stderr",
     "output_type": "stream",
     "text": [
      "Processing Events:  19%|██▋           | 14078/75000 [00:21<01:29, 683.13event/s]"
     ]
    },
    {
     "name": "stdout",
     "output_type": "stream",
     "text": [
      "\n",
      " Pythia::next(): 14000 events have been generated \n"
     ]
    },
    {
     "name": "stderr",
     "output_type": "stream",
     "text": [
      "Processing Events:  20%|██▊           | 15134/75000 [00:22<01:28, 678.11event/s]"
     ]
    },
    {
     "name": "stdout",
     "output_type": "stream",
     "text": [
      "\n",
      " Pythia::next(): 15000 events have been generated \n"
     ]
    },
    {
     "name": "stderr",
     "output_type": "stream",
     "text": [
      "Processing Events:  21%|███           | 16121/75000 [00:24<01:25, 688.39event/s]"
     ]
    },
    {
     "name": "stdout",
     "output_type": "stream",
     "text": [
      "\n",
      " Pythia::next(): 16000 events have been generated \n"
     ]
    },
    {
     "name": "stderr",
     "output_type": "stream",
     "text": [
      "Processing Events:  23%|███▏          | 17112/75000 [00:25<01:21, 713.10event/s]"
     ]
    },
    {
     "name": "stdout",
     "output_type": "stream",
     "text": [
      "\n",
      " Pythia::next(): 17000 events have been generated \n"
     ]
    },
    {
     "name": "stderr",
     "output_type": "stream",
     "text": [
      "Processing Events:  24%|███▍          | 18085/75000 [00:27<01:28, 642.11event/s]"
     ]
    },
    {
     "name": "stdout",
     "output_type": "stream",
     "text": [
      "\n",
      " Pythia::next(): 18000 events have been generated \n"
     ]
    },
    {
     "name": "stderr",
     "output_type": "stream",
     "text": [
      "Processing Events:  25%|███▌          | 19123/75000 [00:28<01:22, 673.25event/s]"
     ]
    },
    {
     "name": "stdout",
     "output_type": "stream",
     "text": [
      "\n",
      " Pythia::next(): 19000 events have been generated \n"
     ]
    },
    {
     "name": "stderr",
     "output_type": "stream",
     "text": [
      "Processing Events:  27%|███▊          | 20115/75000 [00:30<01:18, 699.28event/s]"
     ]
    },
    {
     "name": "stdout",
     "output_type": "stream",
     "text": [
      "\n",
      " Pythia::next(): 20000 events have been generated \n"
     ]
    },
    {
     "name": "stderr",
     "output_type": "stream",
     "text": [
      "Processing Events:  28%|███▉          | 21108/75000 [00:31<01:17, 695.72event/s]"
     ]
    },
    {
     "name": "stdout",
     "output_type": "stream",
     "text": [
      "\n",
      " Pythia::next(): 21000 events have been generated \n"
     ]
    },
    {
     "name": "stderr",
     "output_type": "stream",
     "text": [
      "Processing Events:  29%|████          | 22083/75000 [00:33<01:15, 697.59event/s]"
     ]
    },
    {
     "name": "stdout",
     "output_type": "stream",
     "text": [
      "\n",
      " Pythia::next(): 22000 events have been generated \n"
     ]
    },
    {
     "name": "stderr",
     "output_type": "stream",
     "text": [
      "Processing Events:  31%|████▎         | 23135/75000 [00:34<01:15, 682.64event/s]"
     ]
    },
    {
     "name": "stdout",
     "output_type": "stream",
     "text": [
      "\n",
      " Pythia::next(): 23000 events have been generated \n"
     ]
    },
    {
     "name": "stderr",
     "output_type": "stream",
     "text": [
      "Processing Events:  32%|████▍         | 24099/75000 [00:36<01:16, 665.67event/s]"
     ]
    },
    {
     "name": "stdout",
     "output_type": "stream",
     "text": [
      "\n",
      " Pythia::next(): 24000 events have been generated \n"
     ]
    },
    {
     "name": "stderr",
     "output_type": "stream",
     "text": [
      "Processing Events:  33%|████▋         | 25092/75000 [00:37<01:13, 674.79event/s]"
     ]
    },
    {
     "name": "stdout",
     "output_type": "stream",
     "text": [
      "\n",
      " Pythia::next(): 25000 events have been generated \n"
     ]
    },
    {
     "name": "stderr",
     "output_type": "stream",
     "text": [
      "Processing Events:  35%|████▊         | 26079/75000 [00:38<01:13, 666.85event/s]"
     ]
    },
    {
     "name": "stdout",
     "output_type": "stream",
     "text": [
      "\n",
      " Pythia::next(): 26000 events have been generated \n"
     ]
    },
    {
     "name": "stderr",
     "output_type": "stream",
     "text": [
      "Processing Events:  36%|█████         | 27081/75000 [00:40<01:16, 629.52event/s]"
     ]
    },
    {
     "name": "stdout",
     "output_type": "stream",
     "text": [
      "\n",
      " Pythia::next(): 27000 events have been generated \n"
     ]
    },
    {
     "name": "stderr",
     "output_type": "stream",
     "text": [
      "Processing Events:  37%|█████▏        | 28081/75000 [00:41<01:06, 705.69event/s]"
     ]
    },
    {
     "name": "stdout",
     "output_type": "stream",
     "text": [
      "\n",
      " Pythia::next(): 28000 events have been generated \n"
     ]
    },
    {
     "name": "stderr",
     "output_type": "stream",
     "text": [
      "Processing Events:  39%|█████▍        | 29057/75000 [00:43<01:07, 678.57event/s]"
     ]
    },
    {
     "name": "stdout",
     "output_type": "stream",
     "text": [
      "\n",
      " Pythia::next(): 29000 events have been generated \n"
     ]
    },
    {
     "name": "stderr",
     "output_type": "stream",
     "text": [
      "Processing Events:  40%|█████▌        | 30092/75000 [00:45<01:07, 667.18event/s]"
     ]
    },
    {
     "name": "stdout",
     "output_type": "stream",
     "text": [
      "\n",
      " Pythia::next(): 30000 events have been generated \n"
     ]
    },
    {
     "name": "stderr",
     "output_type": "stream",
     "text": [
      "Processing Events:  42%|█████▊        | 31142/75000 [00:46<01:02, 699.82event/s]"
     ]
    },
    {
     "name": "stdout",
     "output_type": "stream",
     "text": [
      "\n",
      " Pythia::next(): 31000 events have been generated \n"
     ]
    },
    {
     "name": "stderr",
     "output_type": "stream",
     "text": [
      "Processing Events:  43%|█████▉        | 32134/75000 [00:48<01:03, 680.08event/s]"
     ]
    },
    {
     "name": "stdout",
     "output_type": "stream",
     "text": [
      "\n",
      " Pythia::next(): 32000 events have been generated \n"
     ]
    },
    {
     "name": "stderr",
     "output_type": "stream",
     "text": [
      "Processing Events:  44%|██████▏       | 33076/75000 [00:49<01:10, 594.51event/s]"
     ]
    },
    {
     "name": "stdout",
     "output_type": "stream",
     "text": [
      "\n",
      " Pythia::next(): 33000 events have been generated \n"
     ]
    },
    {
     "name": "stderr",
     "output_type": "stream",
     "text": [
      "Processing Events:  45%|██████▎       | 34094/75000 [00:51<01:04, 637.83event/s]"
     ]
    },
    {
     "name": "stdout",
     "output_type": "stream",
     "text": [
      "\n",
      " Pythia::next(): 34000 events have been generated \n"
     ]
    },
    {
     "name": "stderr",
     "output_type": "stream",
     "text": [
      "Processing Events:  47%|██████▌       | 35131/75000 [00:52<00:56, 701.25event/s]"
     ]
    },
    {
     "name": "stdout",
     "output_type": "stream",
     "text": [
      "\n",
      " Pythia::next(): 35000 events have been generated \n"
     ]
    },
    {
     "name": "stderr",
     "output_type": "stream",
     "text": [
      "Processing Events:  48%|██████▋       | 36114/75000 [00:54<00:58, 663.67event/s]"
     ]
    },
    {
     "name": "stdout",
     "output_type": "stream",
     "text": [
      "\n",
      " Pythia::next(): 36000 events have been generated \n"
     ]
    },
    {
     "name": "stderr",
     "output_type": "stream",
     "text": [
      "Processing Events:  49%|██████▉       | 37102/75000 [00:55<01:04, 589.56event/s]"
     ]
    },
    {
     "name": "stdout",
     "output_type": "stream",
     "text": [
      "\n",
      " Pythia::next(): 37000 events have been generated \n"
     ]
    },
    {
     "name": "stderr",
     "output_type": "stream",
     "text": [
      "Processing Events:  51%|███████       | 38114/75000 [00:57<00:54, 675.37event/s]"
     ]
    },
    {
     "name": "stdout",
     "output_type": "stream",
     "text": [
      "\n",
      " Pythia::next(): 38000 events have been generated \n"
     ]
    },
    {
     "name": "stderr",
     "output_type": "stream",
     "text": [
      "Processing Events:  52%|███████▎      | 39091/75000 [00:59<00:56, 633.21event/s]"
     ]
    },
    {
     "name": "stdout",
     "output_type": "stream",
     "text": [
      "\n",
      " Pythia::next(): 39000 events have been generated \n"
     ]
    },
    {
     "name": "stderr",
     "output_type": "stream",
     "text": [
      "Processing Events:  54%|███████▍      | 40138/75000 [01:00<00:51, 681.26event/s]"
     ]
    },
    {
     "name": "stdout",
     "output_type": "stream",
     "text": [
      "\n",
      " Pythia::next(): 40000 events have been generated \n"
     ]
    },
    {
     "name": "stderr",
     "output_type": "stream",
     "text": [
      "Processing Events:  55%|███████▋      | 41102/75000 [01:02<00:50, 671.71event/s]"
     ]
    },
    {
     "name": "stdout",
     "output_type": "stream",
     "text": [
      "\n",
      " Pythia::next(): 41000 events have been generated \n"
     ]
    },
    {
     "name": "stderr",
     "output_type": "stream",
     "text": [
      "Processing Events:  56%|███████▊      | 42151/75000 [01:03<00:47, 694.44event/s]"
     ]
    },
    {
     "name": "stdout",
     "output_type": "stream",
     "text": [
      "\n",
      " Pythia::next(): 42000 events have been generated \n"
     ]
    },
    {
     "name": "stderr",
     "output_type": "stream",
     "text": [
      "Processing Events:  58%|████████      | 43131/75000 [01:05<00:45, 698.68event/s]"
     ]
    },
    {
     "name": "stdout",
     "output_type": "stream",
     "text": [
      "\n",
      " Pythia::next(): 43000 events have been generated \n"
     ]
    },
    {
     "name": "stderr",
     "output_type": "stream",
     "text": [
      "Processing Events:  59%|████████▏     | 44095/75000 [01:06<00:46, 660.92event/s]"
     ]
    },
    {
     "name": "stdout",
     "output_type": "stream",
     "text": [
      "\n",
      " Pythia::next(): 44000 events have been generated \n"
     ]
    },
    {
     "name": "stderr",
     "output_type": "stream",
     "text": [
      "Processing Events:  60%|████████▍     | 45082/75000 [01:08<00:44, 667.98event/s]"
     ]
    },
    {
     "name": "stdout",
     "output_type": "stream",
     "text": [
      "\n",
      " Pythia::next(): 45000 events have been generated \n"
     ]
    },
    {
     "name": "stderr",
     "output_type": "stream",
     "text": [
      "Processing Events:  61%|████████▌     | 46072/75000 [01:09<00:44, 649.65event/s]"
     ]
    },
    {
     "name": "stdout",
     "output_type": "stream",
     "text": [
      "\n",
      " Pythia::next(): 46000 events have been generated \n"
     ]
    },
    {
     "name": "stderr",
     "output_type": "stream",
     "text": [
      "Processing Events:  63%|████████▊     | 47100/75000 [01:11<00:43, 642.95event/s]"
     ]
    },
    {
     "name": "stdout",
     "output_type": "stream",
     "text": [
      "\n",
      " Pythia::next(): 47000 events have been generated \n"
     ]
    },
    {
     "name": "stderr",
     "output_type": "stream",
     "text": [
      "Processing Events:  64%|████████▉     | 48089/75000 [01:13<00:42, 631.83event/s]"
     ]
    },
    {
     "name": "stdout",
     "output_type": "stream",
     "text": [
      "\n",
      " Pythia::next(): 48000 events have been generated \n"
     ]
    },
    {
     "name": "stderr",
     "output_type": "stream",
     "text": [
      "Processing Events:  65%|█████████▏    | 49114/75000 [01:14<00:39, 656.20event/s]"
     ]
    },
    {
     "name": "stdout",
     "output_type": "stream",
     "text": [
      "\n",
      " Pythia::next(): 49000 events have been generated \n"
     ]
    },
    {
     "name": "stderr",
     "output_type": "stream",
     "text": [
      "Processing Events:  67%|█████████▎    | 50084/75000 [01:16<00:36, 681.01event/s]"
     ]
    },
    {
     "name": "stdout",
     "output_type": "stream",
     "text": [
      "\n",
      " Pythia::next(): 50000 events have been generated \n"
     ]
    },
    {
     "name": "stderr",
     "output_type": "stream",
     "text": [
      "Processing Events:  68%|█████████▌    | 51056/75000 [01:17<00:36, 663.34event/s]"
     ]
    },
    {
     "name": "stdout",
     "output_type": "stream",
     "text": [
      "\n",
      " Pythia::next(): 51000 events have been generated \n"
     ]
    },
    {
     "name": "stderr",
     "output_type": "stream",
     "text": [
      "Processing Events:  69%|█████████▋    | 52074/75000 [01:19<00:34, 656.03event/s]"
     ]
    },
    {
     "name": "stdout",
     "output_type": "stream",
     "text": [
      "\n",
      " Pythia::next(): 52000 events have been generated \n"
     ]
    },
    {
     "name": "stderr",
     "output_type": "stream",
     "text": [
      "Processing Events:  71%|█████████▉    | 53081/75000 [01:20<00:32, 668.11event/s]"
     ]
    },
    {
     "name": "stdout",
     "output_type": "stream",
     "text": [
      "\n",
      " Pythia::next(): 53000 events have been generated \n"
     ]
    },
    {
     "name": "stderr",
     "output_type": "stream",
     "text": [
      "Processing Events:  72%|██████████    | 54129/75000 [01:22<00:31, 661.87event/s]"
     ]
    },
    {
     "name": "stdout",
     "output_type": "stream",
     "text": [
      "\n",
      " Pythia::next(): 54000 events have been generated \n"
     ]
    },
    {
     "name": "stderr",
     "output_type": "stream",
     "text": [
      "Processing Events:  73%|██████████▎   | 55100/75000 [01:23<00:30, 647.00event/s]"
     ]
    },
    {
     "name": "stdout",
     "output_type": "stream",
     "text": [
      "\n",
      " Pythia::next(): 55000 events have been generated \n"
     ]
    },
    {
     "name": "stderr",
     "output_type": "stream",
     "text": [
      "Processing Events:  75%|██████████▍   | 56127/75000 [01:25<00:27, 681.24event/s]"
     ]
    },
    {
     "name": "stdout",
     "output_type": "stream",
     "text": [
      "\n",
      " Pythia::next(): 56000 events have been generated \n"
     ]
    },
    {
     "name": "stderr",
     "output_type": "stream",
     "text": [
      "Processing Events:  76%|██████████▋   | 57082/75000 [01:26<00:26, 686.36event/s]"
     ]
    },
    {
     "name": "stdout",
     "output_type": "stream",
     "text": [
      "\n",
      " Pythia::next(): 57000 events have been generated \n"
     ]
    },
    {
     "name": "stderr",
     "output_type": "stream",
     "text": [
      "Processing Events:  77%|██████████▊   | 58081/75000 [01:28<00:25, 672.29event/s]"
     ]
    },
    {
     "name": "stdout",
     "output_type": "stream",
     "text": [
      "\n",
      " Pythia::next(): 58000 events have been generated \n"
     ]
    },
    {
     "name": "stderr",
     "output_type": "stream",
     "text": [
      "Processing Events:  79%|███████████   | 59116/75000 [01:29<00:24, 658.23event/s]"
     ]
    },
    {
     "name": "stdout",
     "output_type": "stream",
     "text": [
      "\n",
      " Pythia::next(): 59000 events have been generated \n"
     ]
    },
    {
     "name": "stderr",
     "output_type": "stream",
     "text": [
      "Processing Events:  80%|███████████▏  | 60082/75000 [01:31<00:24, 602.47event/s]"
     ]
    },
    {
     "name": "stdout",
     "output_type": "stream",
     "text": [
      "\n",
      " Pythia::next(): 60000 events have been generated \n"
     ]
    },
    {
     "name": "stderr",
     "output_type": "stream",
     "text": [
      "Processing Events:  81%|███████████▍  | 61055/75000 [01:32<00:23, 593.84event/s]"
     ]
    },
    {
     "name": "stdout",
     "output_type": "stream",
     "text": [
      "\n",
      " Pythia::next(): 61000 events have been generated \n"
     ]
    },
    {
     "name": "stderr",
     "output_type": "stream",
     "text": [
      "Processing Events:  83%|███████████▌  | 62121/75000 [01:34<00:20, 640.71event/s]"
     ]
    },
    {
     "name": "stdout",
     "output_type": "stream",
     "text": [
      "\n",
      " Pythia::next(): 62000 events have been generated \n"
     ]
    },
    {
     "name": "stderr",
     "output_type": "stream",
     "text": [
      "Processing Events:  84%|███████████▊  | 63108/75000 [01:36<00:17, 665.96event/s]"
     ]
    },
    {
     "name": "stdout",
     "output_type": "stream",
     "text": [
      "\n",
      " Pythia::next(): 63000 events have been generated \n"
     ]
    },
    {
     "name": "stderr",
     "output_type": "stream",
     "text": [
      "Processing Events:  85%|███████████▉  | 64103/75000 [01:37<00:17, 617.60event/s]"
     ]
    },
    {
     "name": "stdout",
     "output_type": "stream",
     "text": [
      "\n",
      " Pythia::next(): 64000 events have been generated \n"
     ]
    },
    {
     "name": "stderr",
     "output_type": "stream",
     "text": [
      "Processing Events:  87%|████████████▏ | 65139/75000 [01:39<00:14, 697.70event/s]"
     ]
    },
    {
     "name": "stdout",
     "output_type": "stream",
     "text": [
      "\n",
      " Pythia::next(): 65000 events have been generated \n"
     ]
    },
    {
     "name": "stderr",
     "output_type": "stream",
     "text": [
      "Processing Events:  88%|████████████▎ | 66125/75000 [01:40<00:13, 678.73event/s]"
     ]
    },
    {
     "name": "stdout",
     "output_type": "stream",
     "text": [
      "\n",
      " Pythia::next(): 66000 events have been generated \n"
     ]
    },
    {
     "name": "stderr",
     "output_type": "stream",
     "text": [
      "Processing Events:  89%|████████████▌ | 67089/75000 [01:42<00:13, 593.51event/s]"
     ]
    },
    {
     "name": "stdout",
     "output_type": "stream",
     "text": [
      "\n",
      " Pythia::next(): 67000 events have been generated \n"
     ]
    },
    {
     "name": "stderr",
     "output_type": "stream",
     "text": [
      "Processing Events:  91%|████████████▋ | 68114/75000 [01:44<00:11, 619.50event/s]"
     ]
    },
    {
     "name": "stdout",
     "output_type": "stream",
     "text": [
      "\n",
      " Pythia::next(): 68000 events have been generated \n"
     ]
    },
    {
     "name": "stderr",
     "output_type": "stream",
     "text": [
      "Processing Events:  92%|████████████▉ | 69115/75000 [01:45<00:08, 663.71event/s]"
     ]
    },
    {
     "name": "stdout",
     "output_type": "stream",
     "text": [
      "\n",
      " Pythia::next(): 69000 events have been generated \n"
     ]
    },
    {
     "name": "stderr",
     "output_type": "stream",
     "text": [
      "Processing Events:  93%|█████████████ | 70123/75000 [01:47<00:07, 654.46event/s]"
     ]
    },
    {
     "name": "stdout",
     "output_type": "stream",
     "text": [
      "\n",
      " Pythia::next(): 70000 events have been generated \n"
     ]
    },
    {
     "name": "stderr",
     "output_type": "stream",
     "text": [
      "Processing Events:  95%|█████████████▎| 71132/75000 [01:48<00:06, 621.81event/s]"
     ]
    },
    {
     "name": "stdout",
     "output_type": "stream",
     "text": [
      "\n",
      " Pythia::next(): 71000 events have been generated \n"
     ]
    },
    {
     "name": "stderr",
     "output_type": "stream",
     "text": [
      "Processing Events:  96%|█████████████▍| 72116/75000 [01:50<00:04, 635.76event/s]"
     ]
    },
    {
     "name": "stdout",
     "output_type": "stream",
     "text": [
      "\n",
      " Pythia::next(): 72000 events have been generated \n"
     ]
    },
    {
     "name": "stderr",
     "output_type": "stream",
     "text": [
      "Processing Events:  97%|█████████████▋| 73099/75000 [01:52<00:03, 600.14event/s]"
     ]
    },
    {
     "name": "stdout",
     "output_type": "stream",
     "text": [
      "\n",
      " Pythia::next(): 73000 events have been generated \n"
     ]
    },
    {
     "name": "stderr",
     "output_type": "stream",
     "text": [
      "Processing Events:  99%|█████████████▊| 74102/75000 [01:53<00:01, 621.08event/s]"
     ]
    },
    {
     "name": "stdout",
     "output_type": "stream",
     "text": [
      "\n",
      " Pythia::next(): 74000 events have been generated \n"
     ]
    },
    {
     "name": "stderr",
     "output_type": "stream",
     "text": [
      "Processing Events: 100%|██████████████| 75000/75000 [01:55<00:00, 652.07event/s]"
     ]
    },
    {
     "name": "stdout",
     "output_type": "stream",
     "text": [
      "\n",
      "Summary:\n",
      "  Processed events: 68056\n",
      "  Skipped events:   6944\n",
      "  Processing time:  115.027 seconds\n",
      "\n",
      " *-------  PYTHIA Event and Cross Section Statistics  -------------------------------------------------------------*\n",
      " |                                                                                                                 |\n",
      " | Subprocess                                    Code |            Number of events       |      sigma +- delta    |\n",
      " |                                                    |       Tried   Selected   Accepted |     (estimated) (mb)   |\n",
      " |                                                    |                                   |                        |\n",
      " |-----------------------------------------------------------------------------------------------------------------|\n",
      " |                                                    |                                   |                        |\n",
      " | Les Houches User Process(es)                  9999 |       75000      75000      75000 |   7.236e-07  0.000e+00 |\n",
      " |    ... whereof user classification code          1 |       75000      75000      75000 |                        | \n",
      " |                                                    |                                   |                        |\n",
      " | sum                                                |       75000      75000      75000 |   7.236e-07  0.000e+00 |\n",
      " |                                                                                                                 |\n",
      " *-------  End PYTHIA Event and Cross Section Statistics ----------------------------------------------------------*\n",
      "\n",
      " *-------  PYTHIA Error and Warning Messages Statistics  ----------------------------------------------------------* \n",
      " |                                                                                                                 | \n",
      " |  times   message                                                                                                | \n",
      " |                                                                                                                 | \n",
      " |      1   Warning in SLHAinterface::initSLHA: ignoring DECAY tables                                              | \n",
      " |      1   Warning in SLHAinterface::initSLHA: ignoring MASS entries                                              | \n",
      " |      1   Warning in SLHAinterface::initSLHA: ignoring empty DECAY tables                                        | \n",
      " |      1   Info from SLHAinterface::initSLHA: No MODSEL found, keeping internal SUSY switched off                 | \n",
      " |                                                                                                                 | \n",
      " *-------  End PYTHIA Error and Warning Messages Statistics  ------------------------------------------------------* \n"
     ]
    },
    {
     "name": "stderr",
     "output_type": "stream",
     "text": [
      "\n"
     ]
    }
   ],
   "source": [
    "# ─── Initialize Pythia with LHE Input ─────────────────────────────────────────\n",
    "pythia = pythia8.Pythia()\n",
    "pythia.readString(\"Beams:frameType = 4\")                   # Use external LHE file\n",
    "pythia.readString(f\"Beams:LHEF = {lhe_file_path}\")         # Set the LHE file path\n",
    "pythia.readString(\"HardQCD:all = on\")                      # Enable QCD processes\n",
    "pythia.readString(\"HadronLevel:all = on\")                  # Enable hadronization\n",
    "pythia.init()                                              # Initialize Pythia\n",
    "\n",
    "# ─── Jet Clustering Configuration ─────────────────────────────────────────────\n",
    "jet_radius = 0.4                    # Anti-kT jet radius R\n",
    "delta_r_threshold = 0.32           # Matching threshold in ΔR (η–φ space)\n",
    "pT_cut = 15.0                      # Minimum jet transverse momentum\n",
    "eta_cut = 2.5                      # Jet η acceptance range\n",
    "verbose = True\n",
    "\n",
    "# ─── Log Jet Clustering Parameters ────────────────────────────────────────────\n",
    "log(f\"Jet clustering parameters:\")\n",
    "log(f\"Radius R               = {jet_radius}\")\n",
    "log(f\"ΔR match threshold     = {delta_r_threshold}\")\n",
    "log(f\"Jet pT cut             = {pT_cut} GeV\")\n",
    "log(f\"Jet η cut              = ±{eta_cut}\")\n",
    "\n",
    "# ─── Prepare Containers for Outputs and Errors ────────────────────────────────\n",
    "truth_partons_list = []    # Stores extracted truth-level partons per event\n",
    "jets_list = []             # Stores clustered and tagged jets per event\n",
    "skipped_events = []        # Logs skipped events with reason\n",
    "\n",
    "start_time = time.time()\n",
    "\n",
    "# ─── Event Loop ───────────────────────────────────────────────────────────────\n",
    "for i_event in tqdm(range(total_num_events), desc=\"Processing Events\", unit=\"event\"):\n",
    "    if not pythia.next():\n",
    "        # Log if Pythia fails to generate the event\n",
    "        skipped_events.append({\"event_id\": i_event, \"reason\": \"Event generation failed.\"})\n",
    "        continue\n",
    "\n",
    "    try:\n",
    "        # ─── Extract Final-State Particles ────────────────────────────────────\n",
    "        final_particles = [\n",
    "            (p.px(), p.py(), p.pz(), p.e(), p.id())\n",
    "            for p in pythia.event if p.isFinal()\n",
    "        ]\n",
    "\n",
    "        if not final_particles:\n",
    "            skipped_events.append({\"event_id\": i_event, \"reason\": \"No final-state particles.\"})\n",
    "            continue\n",
    "\n",
    "        event_data = {\"final_particles\": final_particles}\n",
    "\n",
    "        # ─── Cluster Jets Using FastJet ───────────────────────────────────────\n",
    "        jets, cluster_sequence = cluster_jets(event_data, jet_radius, pT_cut, eta_cut)\n",
    "\n",
    "        if not jets:\n",
    "            skipped_events.append({\"event_id\": i_event, \"reason\": \"No jets after clustering.\"})\n",
    "            continue\n",
    "\n",
    "        # ─── Extract Truth-Level Partons ──────────────────────────────────────\n",
    "        truth_partons = truth_lvl_partons(pythia)\n",
    "\n",
    "        if not truth_partons:\n",
    "            skipped_events.append({\"event_id\": i_event, \"reason\": \"No truth-level partons.\"})\n",
    "            continue\n",
    "\n",
    "        # ─── Match Jets to Partons Using KDTree ──────────────────────────────\n",
    "        tagged_jets = match_and_tag_jets_with_kdtree(\n",
    "            jets, truth_partons, delta_r_threshold, verbose=False\n",
    "        )\n",
    "\n",
    "        # ─── Store Valid Event Output ────────────────────────────────────────\n",
    "        truth_partons_list.append({\n",
    "            \"event_id\": i_event,\n",
    "            \"truth_partons\": truth_partons\n",
    "        })\n",
    "\n",
    "        jets_list.append({\n",
    "            \"event_id\": i_event,\n",
    "            \"jets\": tagged_jets\n",
    "        })\n",
    "\n",
    "    except Exception as e:\n",
    "        # Catch and log any unexpected errors\n",
    "        skipped_events.append({\n",
    "            \"event_id\": i_event,\n",
    "            \"reason\": f\"Error during processing: {str(e)}\"\n",
    "        })\n",
    "        continue\n",
    "\n",
    "# ─── Final Stats and Summary ──────────────────────────────────────────────────\n",
    "pythia.stat()                        # Print Pythia event statistics\n",
    "end_time = time.time()\n",
    "\n",
    "processed = len(truth_partons_list)\n",
    "skipped = len(skipped_events)\n",
    "duration = end_time - start_time\n",
    "\n",
    "# ─── Print and Log Summary ────────────────────────────────────────────────────\n",
    "print(f\"\\nSummary:\")\n",
    "print(f\"  Processed events: {processed}\")\n",
    "print(f\"  Skipped events:   {skipped}\")\n",
    "print(f\"  Processing time:  {duration:.3f} seconds\")\n",
    "\n",
    "log(f\"Jet clustering complete.\")\n",
    "log(f\"Processed events: {processed}\")\n",
    "log(f\"Skipped events:   {skipped}\")\n",
    "log(f\"Processing time:  {duration:.3f} seconds\")"
   ]
  },
  {
   "cell_type": "code",
   "execution_count": 6,
   "id": "960f5732-5fc1-43fc-83ff-c4cae7bd9dc6",
   "metadata": {},
   "outputs": [
    {
     "name": "stdout",
     "output_type": "stream",
     "text": [
      "\n",
      "=== Jet Matching Summary ===\n",
      "Quark       : Matched =  50070, Truth =  68056, Efficiency =  73.57%\n",
      "Antiquark   : Matched =  50167, Truth =  68056, Efficiency =  73.71%\n",
      "Gluon       : Matched =   1271, Truth =  68031, Efficiency =   1.87%\n",
      "\n",
      "=== Charged Constituents Summary ===\n",
      "Total Jets Processed         : 132752\n",
      "Total Charged Constituents   : 672635\n",
      "Average Charged per Jet      : 5.07\n",
      "\n",
      "=== Charged Multiplicity (per class) ===\n",
      "Quark       : Jets = 50070, Avg Charged Multiplicity =   5.06\n",
      "Antiquark   : Jets = 50167, Avg Charged Multiplicity =   5.07\n",
      "Gluon       : Jets =  1271, Avg Charged Multiplicity =   4.69\n"
     ]
    }
   ],
   "source": [
    "# ─── Initialize Counters and Containers ───────────────────────────────────────\n",
    "truth_counts = defaultdict(int)                   # Counts of truth-level partons (quark, antiquark, gluon)\n",
    "matched_counts = defaultdict(int)                 # Counts of matched jets by tag\n",
    "charged_multiplicity_by_class = defaultdict(list) # Stores charged multiplicities per jet class\n",
    "\n",
    "total_charged_constituents = 0                    # Total number of charged constituents across all jets\n",
    "total_jet_count = 0                               # Total number of jets processed\n",
    "\n",
    "# ─── Loop Over All Events ─────────────────────────────────────────────────────\n",
    "for truth_data, jet_data in zip(truth_partons_list, jets_list):\n",
    "\n",
    "    # Count truth-level partons by PDG ID\n",
    "    for parton in truth_data[\"truth_partons\"]:\n",
    "        pid = parton[\"id\"]\n",
    "        if pid in {1, 2, 3, 4}:\n",
    "            truth_counts[\"quark\"] += 1\n",
    "        elif pid in {-1, -2, -3, -4}:\n",
    "            truth_counts[\"antiquark\"] += 1\n",
    "        elif pid == 21:\n",
    "            truth_counts[\"gluon\"] += 1\n",
    "\n",
    "    # Count matched jets and collect charged multiplicities\n",
    "    for jet in jet_data[\"jets\"]:\n",
    "        tag = jet[\"tag\"]\n",
    "        charged_mult = jet.get(\"charge_multiplicity\", 0)\n",
    "\n",
    "        total_charged_constituents += charged_mult\n",
    "        total_jet_count += 1\n",
    "\n",
    "        if tag in {\"quark\", \"antiquark\", \"gluon\"}:\n",
    "            matched_counts[tag] += 1\n",
    "            charged_multiplicity_by_class[tag].append(charged_mult)\n",
    "\n",
    "# ─── Efficiency Calculation Helper ─────────────────────────────────────────────\n",
    "def compute_efficiency(matched, truth):\n",
    "    return (matched / truth) * 100 if truth > 0 else 0.0\n",
    "\n",
    "# ─── Print and Log Jet Matching Efficiency ────────────────────────────────────\n",
    "print(\"\\n=== Jet Matching Summary ===\")\n",
    "log(\"\\n=== Jet Matching Summary ===\")\n",
    "\n",
    "for tag in [\"quark\", \"antiquark\", \"gluon\"]:\n",
    "    matched = matched_counts[tag]\n",
    "    truth = truth_counts[tag]\n",
    "    efficiency = compute_efficiency(matched, truth)\n",
    "    summary_line = f\"{tag.capitalize():<12}: Matched = {matched:6}, Truth = {truth:6}, Efficiency = {efficiency:6.2f}%\"\n",
    "    print(summary_line)\n",
    "    log(summary_line)\n",
    "\n",
    "# ─── Compute Average Charged Multiplicity ─────────────────────────────────────\n",
    "avg_charged_per_jet = total_charged_constituents / total_jet_count if total_jet_count > 0 else 0\n",
    "\n",
    "print(\"\\n=== Charged Constituents Summary ===\")\n",
    "log(\"\\n=== Charged Constituents Summary ===\")\n",
    "\n",
    "print(f\"Total Jets Processed         : {total_jet_count}\")\n",
    "log(f\"Total Jets Processed         : {total_jet_count}\")\n",
    "print(f\"Total Charged Constituents   : {total_charged_constituents}\")\n",
    "log(f\"Total Charged Constituents   : {total_charged_constituents}\")\n",
    "print(f\"Average Charged per Jet      : {avg_charged_per_jet:.2f}\")\n",
    "log(f\"Average Charged per Jet      : {avg_charged_per_jet:.2f}\")\n",
    "\n",
    "# ─── Print Per-Class Charged Multiplicity Stats ───────────────────────────────\n",
    "print(\"\\n=== Charged Multiplicity (per class) ===\")\n",
    "log(\"\\n=== Charged Multiplicity (per class) ===\")\n",
    "\n",
    "for tag in [\"quark\", \"antiquark\", \"gluon\"]:\n",
    "    mults = charged_multiplicity_by_class[tag]\n",
    "    if mults:\n",
    "        avg = sum(mults) / len(mults)\n",
    "        line = f\"{tag.capitalize():<12}: Jets = {len(mults):5}, Avg Charged Multiplicity = {avg:6.2f}\"\n",
    "    else:\n",
    "        line = f\"{tag.capitalize():<12}: No matched jets.\"\n",
    "    print(line)\n",
    "    log(line)"
   ]
  },
  {
   "cell_type": "code",
   "execution_count": 7,
   "id": "905e9430-d90f-4188-8dc4-c6b711f800c8",
   "metadata": {},
   "outputs": [
    {
     "name": "stdout",
     "output_type": "stream",
     "text": [
      "Jet data saved to: /home/soumodip/Python/MSc_Project/Finalized_Project/Training_data_75k_100GeV/JJ_Pipeline/JJ_Datas/jet_data_jj.h5\n",
      "Time taken: 101.98 seconds\n"
     ]
    }
   ],
   "source": [
    "jet_save_start = time.time()\n",
    "\n",
    "# Open (or create) an HDF5 file to store jet data\n",
    "with h5py.File(data_path / \"jet_data_jj.h5\", \"w\") as jet_file:\n",
    "    \n",
    "    # ─── Store Global Attributes ───────────────────────────────────────────────\n",
    "    jet_file.attrs[\"jet_radius\"] = jet_radius                          # Jet clustering radius\n",
    "    jet_file.attrs[\"pt_cut\"] = pT_cut                                  # Minimum jet pT cut\n",
    "    jet_file.attrs[\"eta_cut\"] = eta_cut                                # Max pseudorapidity for jets\n",
    "    jet_file.attrs[\"delta_r_threshold\"] = delta_r_threshold            # ΔR matching threshold for tagging\n",
    "    jet_file.attrs[\"description\"] = (                                  # Description of the dataset\n",
    "        \"Jet dataset from e+e- → jj. Contains jet-level and constituent-level information.\"\n",
    "    )\n",
    "    jet_file.attrs[\"constituent_format\"] = \"E, pT, eta, phi, charge, pdg_id\"  # Format for constituent data\n",
    "    jet_file.attrs[\"n_events\"] = len(jets_list)                        # Number of events saved\n",
    "\n",
    "    # ─── Store Event-wise Jet Data ────────────────────────────────────────────\n",
    "    for i, jet_data in enumerate(jets_list):\n",
    "        event_group = jet_file.create_group(f\"event_{i}\")              # Create a group per event\n",
    "        jets = jet_data[\"jets\"]\n",
    "\n",
    "        # ─── Save Jet-Level Metadata ─────────────────────────────────────────\n",
    "        pt = np.array([jet[\"pt\"] for jet in jets], dtype=np.float32)\n",
    "        eta = np.array([jet[\"eta\"] for jet in jets], dtype=np.float32)\n",
    "        phi = np.array([jet[\"phi\"] for jet in jets], dtype=np.float32)\n",
    "        mass = np.array([jet[\"mass\"] for jet in jets], dtype=np.float32)\n",
    "        multiplicity = np.array([jet[\"multiplicity\"] for jet in jets], dtype=np.int32)\n",
    "        n_charged = np.array([jet[\"charge_multiplicity\"] for jet in jets], dtype=np.int32)\n",
    "        tags = np.array([jet[\"tag\"].encode('utf-8') for jet in jets])  # Encode tags as bytes for HDF5\n",
    "\n",
    "        # ─── Write Jet-Level Datasets ────────────────────────────────────────\n",
    "        event_group.create_dataset(\"pt\", data=pt)\n",
    "        event_group.create_dataset(\"eta\", data=eta)\n",
    "        event_group.create_dataset(\"phi\", data=phi)\n",
    "        event_group.create_dataset(\"mass\", data=mass)\n",
    "        event_group.create_dataset(\"multiplicity\", data=multiplicity)\n",
    "        event_group.create_dataset(\"charge_multiplicity\", data=n_charged)\n",
    "        event_group.create_dataset(\"tag\", data=tags)\n",
    "\n",
    "        event_group.attrs[\"n_jets\"] = len(jets)                        # Number of jets in this event\n",
    "        event_group.attrs[\"constituent_format\"] = \"E, pT, eta, phi, charge, pdg_id\"\n",
    "\n",
    "        # ─── Save Jet Constituent Data ───────────────────────────────────────\n",
    "        for j, jet in enumerate(jets):\n",
    "            constituents = np.array([\n",
    "                [c[\"e\"], c[\"pt\"], c[\"eta\"], c[\"phi\"], c[\"charge\"], c[\"pdg_id\"]]\n",
    "                for c in jet[\"constituents\"]\n",
    "            ], dtype=np.float32)\n",
    "\n",
    "            # Store with compression to save space\n",
    "            event_group.create_dataset(\n",
    "                f\"jet_{j}_constituents\",\n",
    "                data=constituents,\n",
    "                compression=\"gzip\",\n",
    "                compression_opts=9,\n",
    "                shuffle=True\n",
    "            )\n",
    "\n",
    "jet_save_end = time.time()\n",
    "\n",
    "# ─── Completion Logs ─────────────────────────────────────────────────────────\n",
    "print(f\"Jet data saved to: {data_path / 'jet_data_jj.h5'}\")\n",
    "print(f\"Time taken: {jet_save_end - jet_save_start:.2f} seconds\")"
   ]
  },
  {
   "cell_type": "code",
   "execution_count": 8,
   "id": "c89a452f-d3e3-4d1e-996b-3bfbc041f824",
   "metadata": {},
   "outputs": [
    {
     "name": "stdout",
     "output_type": "stream",
     "text": [
      "Truth parton data saved to: /home/soumodip/Python/MSc_Project/Finalized_Project/Training_data_75k_100GeV/JJ_Pipeline/JJ_Datas/truth_parton_data_jj.h5\n",
      "Time taken: 66.02 seconds\n"
     ]
    }
   ],
   "source": [
    "truth_save_start = time.time()\n",
    "\n",
    "# Open (or create) an HDF5 file to store truth-level parton data\n",
    "with h5py.File(data_path / \"truth_parton_data_jj.h5\", \"w\") as truth_file:\n",
    "    \n",
    "    # ─── Global Attributes ────────────────────────────────────────────────\n",
    "    truth_file.attrs[\"description\"] = \"Truth-level partons for e+e- → jj\"  # File description\n",
    "    truth_file.attrs[\"columns\"] = \"id, pt, eta, phi, e\"                    # Format of stored columns\n",
    "    truth_file.attrs[\"n_events\"] = len(truth_partons_list)                # Number of events stored\n",
    "\n",
    "    # ─── Event-wise Data Saving ──────────────────────────────────────────\n",
    "    for i, truth_data in enumerate(truth_partons_list):\n",
    "        event_group = truth_file.create_group(f\"event_{i}\")               # Create a group per event\n",
    "        partons = truth_data[\"truth_partons\"]\n",
    "\n",
    "        # Extract parton-level data into separate arrays\n",
    "        parton_ids = np.array([p[\"id\"] for p in partons], dtype=np.int32)\n",
    "        parton_pt  = np.array([p[\"pt\"] for p in partons], dtype=np.float32)\n",
    "        parton_eta = np.array([p[\"eta\"] for p in partons], dtype=np.float32)\n",
    "        parton_phi = np.array([p[\"phi\"] for p in partons], dtype=np.float32)\n",
    "        parton_e   = np.array([p[\"e\"] for p in partons], dtype=np.float32)\n",
    "\n",
    "        # ─── Save each attribute with compression ────────────────────────\n",
    "        event_group.create_dataset(\"id\",   data=parton_ids, compression=\"gzip\", compression_opts=9, shuffle=True)\n",
    "        event_group.create_dataset(\"pt\",   data=parton_pt,  compression=\"gzip\", compression_opts=9, shuffle=True)\n",
    "        event_group.create_dataset(\"eta\",  data=parton_eta, compression=\"gzip\", compression_opts=9, shuffle=True)\n",
    "        event_group.create_dataset(\"phi\",  data=parton_phi, compression=\"gzip\", compression_opts=9, shuffle=True)\n",
    "        event_group.create_dataset(\"e\",    data=parton_e,   compression=\"gzip\", compression_opts=9, shuffle=True)\n",
    "\n",
    "        # Store number of partons as group-level metadata\n",
    "        event_group.attrs[\"n_partons\"] = len(partons)\n",
    "\n",
    "truth_save_end = time.time()\n",
    "\n",
    "# ─── Completion Message ──────────────────────────────────────────────────\n",
    "print(f\"Truth parton data saved to: {data_path / 'truth_parton_data_jj.h5'}\")\n",
    "print(f\"Time taken: {truth_save_end - truth_save_start:.2f} seconds\")"
   ]
  },
  {
   "cell_type": "code",
   "execution_count": 9,
   "id": "a8bf8927-bfa5-40ea-a803-2ef1b1b7f0d0",
   "metadata": {},
   "outputs": [
    {
     "name": "stdout",
     "output_type": "stream",
     "text": [
      "Skipped events data saved to: /home/soumodip/Python/MSc_Project/Finalized_Project/Training_data_75k_100GeV/JJ_Pipeline/JJ_Datas/skipped_events_data_jj.json\n",
      "Skipped events saved in 0.03 seconds.\n"
     ]
    }
   ],
   "source": [
    "skipped_save_start = time.time()\n",
    "\n",
    "# ─── Prepare a Clean List of Skipped Events ───────────────────────────────\n",
    "# Extract only event ID and skip reason for each skipped event\n",
    "skipped_data = [\n",
    "    {\"event_id\": s[\"event_id\"], \"reason\": s[\"reason\"]}\n",
    "    for s in skipped_events\n",
    "]\n",
    "\n",
    "# ─── Save Skipped Events to JSON File ─────────────────────────────────────\n",
    "# Write the cleaned skipped event list to a JSON file (human-readable with indent=2)\n",
    "with open(data_path / \"skipped_events_data_jj.json\", \"w\") as f:\n",
    "    json.dump(skipped_data, f, indent=2)\n",
    "\n",
    "skipped_save_end = time.time()\n",
    "\n",
    "# ─── Print Completion Message ─────────────────────────────────────────────\n",
    "print(f\"Skipped events data saved to: {data_path / 'skipped_events_data_jj.json'}\")\n",
    "print(f\"Skipped events saved in {skipped_save_end - skipped_save_start:.2f} seconds.\")"
   ]
  }
 ],
 "metadata": {
  "kernelspec": {
   "display_name": "Python 3 (ipykernel)",
   "language": "python",
   "name": "python3"
  },
  "language_info": {
   "codemirror_mode": {
    "name": "ipython",
    "version": 3
   },
   "file_extension": ".py",
   "mimetype": "text/x-python",
   "name": "python",
   "nbconvert_exporter": "python",
   "pygments_lexer": "ipython3",
   "version": "3.12.3"
  }
 },
 "nbformat": 4,
 "nbformat_minor": 5
}
